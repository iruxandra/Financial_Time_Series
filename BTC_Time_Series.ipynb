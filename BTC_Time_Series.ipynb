{
 "cells": [
  {
   "cell_type": "markdown",
   "metadata": {
    "id": "8SHldKnsCXlf"
   },
   "source": [
    "# Background"
   ]
  },
  {
   "cell_type": "markdown",
   "metadata": {
    "id": "iMOnfuqmCbOH"
   },
   "source": [
    "**Dataset:** provided: a time-series dataset, sourced from Kaggle, displaying the price of BTC in USDT from 2017-2022.\n",
    "\n",
    "**Objective:** create an auto-regression model in order to predict the price of BTC daily or monthly.\n",
    "\n",
    "**Questions:** \n",
    "1. Does the size of the train dataset affect the mean absolute error (MAE)?\n",
    "2. Will the average price of BTC decrease or increase in the next 3 months?\n",
    "3. What do the seasonal trend in the price flucuation look like?\n",
    "4. What is the expected return on investment if the algorithm is used in practice?\n",
    "\n",
    "**Future analysis:**\n",
    "1. What other factors affects the price of BTC?\n",
    "\n",
    "\n",
    "**Summary**\n",
    "\n",
    "To predict the market price and stability of Bitcoin in Crypto-market, a machine learning based time series analysis has been applied. Time-series analysis can predict the rise and falls in the price of Bitcoin. For this purpose we have used ARIMA for time series analysis as a machine learning technique. The parameters on the basis of which we have evaluated these models a is Mean Squared Error (MSE). \n",
    "\n",
    "<!-- If I was to use my algoritm in a trading investment,\n",
    "\n",
    "If I was to use your algorithm, and make a decision to buy BTC, what is going to be my original investment if I was to sell the next day.\n",
    "\n",
    "Is the row time series enough to produce buy and sell decisions -->"
   ]
  },
  {
   "cell_type": "markdown",
   "metadata": {
    "id": "91XIa72eCfYL"
   },
   "source": [
    "# Methodology"
   ]
  },
  {
   "cell_type": "markdown",
   "metadata": {
    "id": "DHCmKvO0Cgai"
   },
   "source": [
    "### Understanding the data\n",
    "\n",
    "> The data was extracted from Kaggle.\n",
    "\n",
    "> The data spans over the period 2017 - 2022.\n",
    "\n",
    "> There are 2 kinds of data: Prices (btc_crop) and a Complete Dataset (bitcoin)"
   ]
  },
  {
   "cell_type": "markdown",
   "metadata": {
    "id": "-Td1Cu9MCgc0"
   },
   "source": [
    "### Features (full dataset)\n",
    "\n",
    ">**Open Time/Close Time:** the time when the market opens and closes.\n",
    "\n",
    ">**Open/close:** opening and closing price on the given day (USD).\n",
    "\n",
    ">**High/Low:** highest and lowest price on the given day (USD).\n",
    "\n",
    ">**Day of week:** 0 (Sunday), 1(Monday), 2(Tuesday), 3(Wednesday), 4(Thursday), 5(Friday), 6(Saturday)\n",
    "\n",
    ">**Volume:** the sum total of actual trades taking place (quantity of asset bought or sold) displayed in USD.\n",
    "\n",
    ">**Quote Asset Volume:** the volume in the second part of a pair (i.e. BTC/USDT - the quote would be volume in **USDT**)\n",
    "\n",
    ">**Taker Buy (TB) base volume:** when buyers (takers) buy at the bid price set by sellers (makers), the amount of assets traded between the two contributes to the TB base volume.\n",
    "\n",
    "> **Take Buy (TB) quote volume:** is expressed as the amount of coins that were paid by the buyer in BTC."
   ]
  },
  {
   "cell_type": "markdown",
   "metadata": {
    "id": "sm89zUHfCgfe"
   },
   "source": [
    "### Cleaning and pre-processing\n",
    "\n",
    "1. **Cleaned the data -** converted the date to the datetime format, converted the rest of the columns into its correct data type, and checked for null values.\n",
    "\n",
    "> We didn't find any null values or any errors in the data type.\n",
    "> The whole dataset has 162583 entries and 23 columns\n",
    "\n",
    "\n",
    "2. **Feature engineering**\n",
    "\n",
    "    **a.** Labeled the 'Open Time' according to the US holiday calendar ('Weekend', 'Workday', 'Holiday').\n",
    "    \n",
    "    **b.** Created a function to label time intervals in 'Open Time' to assign the description of the day time ('Morning',                'Afternoon', 'Evening', 'Late Night')."
   ]
  },
  {
   "cell_type": "markdown",
   "metadata": {
    "id": "8mzF7m3pCgiO"
   },
   "source": [
    "### Exploratory data analysis (EDA)\n",
    "\n",
    "1. Filtered the data to only show the columns related to time and price (bc_crop)\n",
    "2. Calculated the average price per 15 min interval using the 'high' and 'low' columns\n",
    "3. Grouped the filtered data by date and calculated the mean of the average price per 15 min interval per day\n",
    "4. Created a boxplot with the training data, which has a size of a month, and the full dataset, size of 5 years, to discover seasonality\n",
    "\n",
    "**Findings:**\n",
    "- There was no seasonality or trends in both the training data and the full dataset.\n",
    "\n"
   ]
  },
  {
   "cell_type": "markdown",
   "metadata": {
    "id": "hi3p40RcCpbp"
   },
   "source": [
    "# Analysis"
   ]
  },
  {
   "cell_type": "markdown",
   "metadata": {
    "id": "mMnIIdhKCper"
   },
   "source": [
    "#### Steps taken for analysis:\n",
    "1. \n",
    "\n",
    "#### Results:\n",
    "1. "
   ]
  },
  {
   "cell_type": "markdown",
   "metadata": {
    "id": "-ur3MMqcV15Y"
   },
   "source": [
    "# Import packages"
   ]
  },
  {
   "cell_type": "code",
   "execution_count": null,
   "metadata": {
    "colab": {
     "base_uri": "https://localhost:8080/"
    },
    "id": "f4SzS--L-B0m",
    "outputId": "949c6f35-d6cc-47ee-834a-1fdcc4dda115"
   },
   "outputs": [
    {
     "name": "stdout",
     "output_type": "stream",
     "text": [
      "Collecting statsmodels==0.12.1\n",
      "  Downloading statsmodels-0.12.1-cp37-cp37m-manylinux1_x86_64.whl (9.5 MB)\n",
      "\u001b[K     |████████████████████████████████| 9.5 MB 10.5 MB/s \n",
      "\u001b[?25hRequirement already satisfied: scipy>=1.1 in /usr/local/lib/python3.7/dist-packages (from statsmodels==0.12.1) (1.4.1)\n",
      "Requirement already satisfied: pandas>=0.21 in /usr/local/lib/python3.7/dist-packages (from statsmodels==0.12.1) (1.3.5)\n",
      "Requirement already satisfied: patsy>=0.5 in /usr/local/lib/python3.7/dist-packages (from statsmodels==0.12.1) (0.5.2)\n",
      "Requirement already satisfied: numpy>=1.15 in /usr/local/lib/python3.7/dist-packages (from statsmodels==0.12.1) (1.21.5)\n",
      "Requirement already satisfied: python-dateutil>=2.7.3 in /usr/local/lib/python3.7/dist-packages (from pandas>=0.21->statsmodels==0.12.1) (2.8.2)\n",
      "Requirement already satisfied: pytz>=2017.3 in /usr/local/lib/python3.7/dist-packages (from pandas>=0.21->statsmodels==0.12.1) (2018.9)\n",
      "Requirement already satisfied: six in /usr/local/lib/python3.7/dist-packages (from patsy>=0.5->statsmodels==0.12.1) (1.15.0)\n",
      "Installing collected packages: statsmodels\n",
      "  Attempting uninstall: statsmodels\n",
      "    Found existing installation: statsmodels 0.10.2\n",
      "    Uninstalling statsmodels-0.10.2:\n",
      "      Successfully uninstalled statsmodels-0.10.2\n",
      "Successfully installed statsmodels-0.12.1\n",
      "Collecting pmdarima\n",
      "  Downloading pmdarima-1.8.5-cp37-cp37m-manylinux_2_17_x86_64.manylinux2014_x86_64.manylinux_2_24_x86_64.whl (1.4 MB)\n",
      "\u001b[K     |████████████████████████████████| 1.4 MB 6.0 MB/s \n",
      "\u001b[?25hRequirement already satisfied: scikit-learn>=0.22 in /usr/local/lib/python3.7/dist-packages (from pmdarima) (1.0.2)\n",
      "Requirement already satisfied: statsmodels!=0.12.0,>=0.11 in /usr/local/lib/python3.7/dist-packages (from pmdarima) (0.12.1)\n",
      "Requirement already satisfied: urllib3 in /usr/local/lib/python3.7/dist-packages (from pmdarima) (1.24.3)\n",
      "Requirement already satisfied: numpy>=1.19.3 in /usr/local/lib/python3.7/dist-packages (from pmdarima) (1.21.5)\n",
      "Requirement already satisfied: joblib>=0.11 in /usr/local/lib/python3.7/dist-packages (from pmdarima) (1.1.0)\n",
      "Requirement already satisfied: Cython!=0.29.18,>=0.29 in /usr/local/lib/python3.7/dist-packages (from pmdarima) (0.29.28)\n",
      "Requirement already satisfied: pandas>=0.19 in /usr/local/lib/python3.7/dist-packages (from pmdarima) (1.3.5)\n",
      "Requirement already satisfied: setuptools!=50.0.0,>=38.6.0 in /usr/local/lib/python3.7/dist-packages (from pmdarima) (57.4.0)\n",
      "Requirement already satisfied: scipy>=1.3.2 in /usr/local/lib/python3.7/dist-packages (from pmdarima) (1.4.1)\n",
      "Requirement already satisfied: python-dateutil>=2.7.3 in /usr/local/lib/python3.7/dist-packages (from pandas>=0.19->pmdarima) (2.8.2)\n",
      "Requirement already satisfied: pytz>=2017.3 in /usr/local/lib/python3.7/dist-packages (from pandas>=0.19->pmdarima) (2018.9)\n",
      "Requirement already satisfied: six>=1.5 in /usr/local/lib/python3.7/dist-packages (from python-dateutil>=2.7.3->pandas>=0.19->pmdarima) (1.15.0)\n",
      "Requirement already satisfied: threadpoolctl>=2.0.0 in /usr/local/lib/python3.7/dist-packages (from scikit-learn>=0.22->pmdarima) (3.1.0)\n",
      "Requirement already satisfied: patsy>=0.5 in /usr/local/lib/python3.7/dist-packages (from statsmodels!=0.12.0,>=0.11->pmdarima) (0.5.2)\n",
      "Installing collected packages: pmdarima\n",
      "Successfully installed pmdarima-1.8.5\n"
     ]
    }
   ],
   "source": [
    "!pip install statsmodels==0.12.1\n",
    "!pip install pmdarima\n",
    "\n",
    "import pandas as pd\n",
    "import matplotlib.pyplot as plt\n",
    "import seaborn as sns\n",
    "from statsmodels.graphics.tsaplots import plot_acf\n",
    "import statsmodels.api as sm\n",
    "from statsmodels.tsa.arima.model import ARIMA\n",
    "from pmdarima import auto_arima\n",
    "from statsmodels.tsa.stattools import adfuller\n",
    "from statsmodels.graphics.tsaplots import plot_pacf"
   ]
  },
  {
   "cell_type": "markdown",
   "metadata": {
    "id": "YWX0le37WAfd"
   },
   "source": [
    "# Read BTCUSDT csv file"
   ]
  },
  {
   "cell_type": "code",
   "execution_count": null,
   "metadata": {
    "id": "63to_2m090vg"
   },
   "outputs": [],
   "source": [
    "url = 'https://raw.githubusercontent.com/iruxandra/BTC/main/BTCUSDT.csv'"
   ]
  },
  {
   "cell_type": "code",
   "execution_count": null,
   "metadata": {
    "id": "1fpuo2SiLkJH"
   },
   "outputs": [],
   "source": []
  },
  {
   "cell_type": "code",
   "execution_count": null,
   "metadata": {
    "id": "hYGtjH_l_htq"
   },
   "outputs": [],
   "source": [
    "bitcoin = pd.read_csv(url)"
   ]
  },
  {
   "cell_type": "code",
   "execution_count": null,
   "metadata": {
    "colab": {
     "base_uri": "https://localhost:8080/",
     "height": 206
    },
    "id": "hdfTh5AyADHe",
    "outputId": "5bb7ef13-01b9-469c-ce70-aad7183e059a"
   },
   "outputs": [
    {
     "data": {
      "text/html": [
       "\n",
       "  <div id=\"df-c25ccef4-cf49-4f25-ad40-e93d88a23e53\">\n",
       "    <div class=\"colab-df-container\">\n",
       "      <div>\n",
       "<style scoped>\n",
       "    .dataframe tbody tr th:only-of-type {\n",
       "        vertical-align: middle;\n",
       "    }\n",
       "\n",
       "    .dataframe tbody tr th {\n",
       "        vertical-align: top;\n",
       "    }\n",
       "\n",
       "    .dataframe thead th {\n",
       "        text-align: right;\n",
       "    }\n",
       "</style>\n",
       "<table border=\"1\" class=\"dataframe\">\n",
       "  <thead>\n",
       "    <tr style=\"text-align: right;\">\n",
       "      <th></th>\n",
       "      <th>Open Time</th>\n",
       "      <th>Open</th>\n",
       "      <th>High</th>\n",
       "      <th>Low</th>\n",
       "      <th>Close</th>\n",
       "      <th>Volume</th>\n",
       "      <th>Close Time</th>\n",
       "      <th>Quote Asset Volume</th>\n",
       "      <th>Number of Trades</th>\n",
       "      <th>TB Base Volume</th>\n",
       "      <th>TB Quote Volume</th>\n",
       "      <th>Ignore</th>\n",
       "    </tr>\n",
       "  </thead>\n",
       "  <tbody>\n",
       "    <tr>\n",
       "      <th>0</th>\n",
       "      <td>2017-08-17 04:00:00.000000000</td>\n",
       "      <td>4261.48</td>\n",
       "      <td>4280.56</td>\n",
       "      <td>4261.48</td>\n",
       "      <td>4261.48</td>\n",
       "      <td>2.189061</td>\n",
       "      <td>2017-08-17 04:14:59.999000064</td>\n",
       "      <td>9333.620962</td>\n",
       "      <td>9</td>\n",
       "      <td>0.489061</td>\n",
       "      <td>2089.104962</td>\n",
       "      <td>7958.417415</td>\n",
       "    </tr>\n",
       "    <tr>\n",
       "      <th>1</th>\n",
       "      <td>2017-08-17 04:15:00.000000000</td>\n",
       "      <td>4261.48</td>\n",
       "      <td>4270.41</td>\n",
       "      <td>4261.32</td>\n",
       "      <td>4261.45</td>\n",
       "      <td>9.119865</td>\n",
       "      <td>2017-08-17 04:29:59.999000064</td>\n",
       "      <td>38891.133046</td>\n",
       "      <td>40</td>\n",
       "      <td>3.447113</td>\n",
       "      <td>14703.934995</td>\n",
       "      <td>7922.579933</td>\n",
       "    </tr>\n",
       "    <tr>\n",
       "      <th>2</th>\n",
       "      <td>2017-08-17 04:30:00.000000000</td>\n",
       "      <td>4280.00</td>\n",
       "      <td>4310.07</td>\n",
       "      <td>4267.99</td>\n",
       "      <td>4310.07</td>\n",
       "      <td>21.923552</td>\n",
       "      <td>2017-08-17 04:44:59.999000064</td>\n",
       "      <td>94080.917568</td>\n",
       "      <td>58</td>\n",
       "      <td>20.421317</td>\n",
       "      <td>87620.977876</td>\n",
       "      <td>7912.494217</td>\n",
       "    </tr>\n",
       "    <tr>\n",
       "      <th>3</th>\n",
       "      <td>2017-08-17 04:45:00.000000000</td>\n",
       "      <td>4310.07</td>\n",
       "      <td>4313.62</td>\n",
       "      <td>4291.37</td>\n",
       "      <td>4308.83</td>\n",
       "      <td>13.948531</td>\n",
       "      <td>2017-08-17 04:59:59.999000064</td>\n",
       "      <td>60060.466816</td>\n",
       "      <td>64</td>\n",
       "      <td>10.803012</td>\n",
       "      <td>46538.460109</td>\n",
       "      <td>7887.635513</td>\n",
       "    </tr>\n",
       "    <tr>\n",
       "      <th>4</th>\n",
       "      <td>2017-08-17 05:00:00.000000000</td>\n",
       "      <td>4308.83</td>\n",
       "      <td>4328.69</td>\n",
       "      <td>4304.31</td>\n",
       "      <td>4304.31</td>\n",
       "      <td>5.101153</td>\n",
       "      <td>2017-08-17 05:14:59.999000064</td>\n",
       "      <td>22006.533111</td>\n",
       "      <td>44</td>\n",
       "      <td>3.496635</td>\n",
       "      <td>15093.783057</td>\n",
       "      <td>7865.654419</td>\n",
       "    </tr>\n",
       "  </tbody>\n",
       "</table>\n",
       "</div>\n",
       "      <button class=\"colab-df-convert\" onclick=\"convertToInteractive('df-c25ccef4-cf49-4f25-ad40-e93d88a23e53')\"\n",
       "              title=\"Convert this dataframe to an interactive table.\"\n",
       "              style=\"display:none;\">\n",
       "        \n",
       "  <svg xmlns=\"http://www.w3.org/2000/svg\" height=\"24px\"viewBox=\"0 0 24 24\"\n",
       "       width=\"24px\">\n",
       "    <path d=\"M0 0h24v24H0V0z\" fill=\"none\"/>\n",
       "    <path d=\"M18.56 5.44l.94 2.06.94-2.06 2.06-.94-2.06-.94-.94-2.06-.94 2.06-2.06.94zm-11 1L8.5 8.5l.94-2.06 2.06-.94-2.06-.94L8.5 2.5l-.94 2.06-2.06.94zm10 10l.94 2.06.94-2.06 2.06-.94-2.06-.94-.94-2.06-.94 2.06-2.06.94z\"/><path d=\"M17.41 7.96l-1.37-1.37c-.4-.4-.92-.59-1.43-.59-.52 0-1.04.2-1.43.59L10.3 9.45l-7.72 7.72c-.78.78-.78 2.05 0 2.83L4 21.41c.39.39.9.59 1.41.59.51 0 1.02-.2 1.41-.59l7.78-7.78 2.81-2.81c.8-.78.8-2.07 0-2.86zM5.41 20L4 18.59l7.72-7.72 1.47 1.35L5.41 20z\"/>\n",
       "  </svg>\n",
       "      </button>\n",
       "      \n",
       "  <style>\n",
       "    .colab-df-container {\n",
       "      display:flex;\n",
       "      flex-wrap:wrap;\n",
       "      gap: 12px;\n",
       "    }\n",
       "\n",
       "    .colab-df-convert {\n",
       "      background-color: #E8F0FE;\n",
       "      border: none;\n",
       "      border-radius: 50%;\n",
       "      cursor: pointer;\n",
       "      display: none;\n",
       "      fill: #1967D2;\n",
       "      height: 32px;\n",
       "      padding: 0 0 0 0;\n",
       "      width: 32px;\n",
       "    }\n",
       "\n",
       "    .colab-df-convert:hover {\n",
       "      background-color: #E2EBFA;\n",
       "      box-shadow: 0px 1px 2px rgba(60, 64, 67, 0.3), 0px 1px 3px 1px rgba(60, 64, 67, 0.15);\n",
       "      fill: #174EA6;\n",
       "    }\n",
       "\n",
       "    [theme=dark] .colab-df-convert {\n",
       "      background-color: #3B4455;\n",
       "      fill: #D2E3FC;\n",
       "    }\n",
       "\n",
       "    [theme=dark] .colab-df-convert:hover {\n",
       "      background-color: #434B5C;\n",
       "      box-shadow: 0px 1px 3px 1px rgba(0, 0, 0, 0.15);\n",
       "      filter: drop-shadow(0px 1px 2px rgba(0, 0, 0, 0.3));\n",
       "      fill: #FFFFFF;\n",
       "    }\n",
       "  </style>\n",
       "\n",
       "      <script>\n",
       "        const buttonEl =\n",
       "          document.querySelector('#df-c25ccef4-cf49-4f25-ad40-e93d88a23e53 button.colab-df-convert');\n",
       "        buttonEl.style.display =\n",
       "          google.colab.kernel.accessAllowed ? 'block' : 'none';\n",
       "\n",
       "        async function convertToInteractive(key) {\n",
       "          const element = document.querySelector('#df-c25ccef4-cf49-4f25-ad40-e93d88a23e53');\n",
       "          const dataTable =\n",
       "            await google.colab.kernel.invokeFunction('convertToInteractive',\n",
       "                                                     [key], {});\n",
       "          if (!dataTable) return;\n",
       "\n",
       "          const docLinkHtml = 'Like what you see? Visit the ' +\n",
       "            '<a target=\"_blank\" href=https://colab.research.google.com/notebooks/data_table.ipynb>data table notebook</a>'\n",
       "            + ' to learn more about interactive tables.';\n",
       "          element.innerHTML = '';\n",
       "          dataTable['output_type'] = 'display_data';\n",
       "          await google.colab.output.renderOutput(dataTable, element);\n",
       "          const docLink = document.createElement('div');\n",
       "          docLink.innerHTML = docLinkHtml;\n",
       "          element.appendChild(docLink);\n",
       "        }\n",
       "      </script>\n",
       "    </div>\n",
       "  </div>\n",
       "  "
      ],
      "text/plain": [
       "                       Open Time     Open     High      Low    Close  \\\n",
       "0  2017-08-17 04:00:00.000000000  4261.48  4280.56  4261.48  4261.48   \n",
       "1  2017-08-17 04:15:00.000000000  4261.48  4270.41  4261.32  4261.45   \n",
       "2  2017-08-17 04:30:00.000000000  4280.00  4310.07  4267.99  4310.07   \n",
       "3  2017-08-17 04:45:00.000000000  4310.07  4313.62  4291.37  4308.83   \n",
       "4  2017-08-17 05:00:00.000000000  4308.83  4328.69  4304.31  4304.31   \n",
       "\n",
       "      Volume                     Close Time  Quote Asset Volume  \\\n",
       "0   2.189061  2017-08-17 04:14:59.999000064         9333.620962   \n",
       "1   9.119865  2017-08-17 04:29:59.999000064        38891.133046   \n",
       "2  21.923552  2017-08-17 04:44:59.999000064        94080.917568   \n",
       "3  13.948531  2017-08-17 04:59:59.999000064        60060.466816   \n",
       "4   5.101153  2017-08-17 05:14:59.999000064        22006.533111   \n",
       "\n",
       "   Number of Trades  TB Base Volume  TB Quote Volume       Ignore  \n",
       "0                 9        0.489061      2089.104962  7958.417415  \n",
       "1                40        3.447113     14703.934995  7922.579933  \n",
       "2                58       20.421317     87620.977876  7912.494217  \n",
       "3                64       10.803012     46538.460109  7887.635513  \n",
       "4                44        3.496635     15093.783057  7865.654419  "
      ]
     },
     "execution_count": 4,
     "metadata": {},
     "output_type": "execute_result"
    }
   ],
   "source": [
    "bitcoin.head()"
   ]
  },
  {
   "cell_type": "markdown",
   "metadata": {
    "id": "Ux7HLmAvWGcD"
   },
   "source": [
    "# Convert 'Open Time' and 'Close Time' to datetime"
   ]
  },
  {
   "cell_type": "code",
   "execution_count": null,
   "metadata": {
    "id": "RVHHjICHBW1R"
   },
   "outputs": [],
   "source": [
    "bitcoin=bitcoin.sort_values('Open Time')\n",
    "bitcoin['Open Time']=pd.to_datetime(bitcoin['Open Time'])\n",
    "bitcoin['Close Time']=pd.to_datetime(bitcoin['Close Time'])"
   ]
  },
  {
   "cell_type": "markdown",
   "metadata": {
    "id": "z5zm65FuXogH"
   },
   "source": [
    "#### Resetting index with 'Open Time' & refining the grain of the data"
   ]
  },
  {
   "cell_type": "code",
   "execution_count": null,
   "metadata": {
    "id": "HBHfjg5BBlS8"
   },
   "outputs": [],
   "source": [
    "bitcoin.set_index('Open Time',inplace=True)"
   ]
  },
  {
   "cell_type": "code",
   "execution_count": null,
   "metadata": {
    "colab": {
     "base_uri": "https://localhost:8080/",
     "height": 267
    },
    "id": "hUdcAq9jBmrA",
    "outputId": "f172c70b-8390-4f1d-8a45-f0f72ebe6e0b"
   },
   "outputs": [
    {
     "data": {
      "text/html": [
       "\n",
       "  <div id=\"df-ec689a2a-0850-43bb-83e9-daecb6aeb502\">\n",
       "    <div class=\"colab-df-container\">\n",
       "      <div>\n",
       "<style scoped>\n",
       "    .dataframe tbody tr th:only-of-type {\n",
       "        vertical-align: middle;\n",
       "    }\n",
       "\n",
       "    .dataframe tbody tr th {\n",
       "        vertical-align: top;\n",
       "    }\n",
       "\n",
       "    .dataframe thead th {\n",
       "        text-align: right;\n",
       "    }\n",
       "</style>\n",
       "<table border=\"1\" class=\"dataframe\">\n",
       "  <thead>\n",
       "    <tr style=\"text-align: right;\">\n",
       "      <th></th>\n",
       "      <th>Open</th>\n",
       "      <th>High</th>\n",
       "      <th>Low</th>\n",
       "      <th>Close</th>\n",
       "      <th>Volume</th>\n",
       "      <th>Close Time</th>\n",
       "      <th>Quote Asset Volume</th>\n",
       "      <th>Number of Trades</th>\n",
       "      <th>TB Base Volume</th>\n",
       "      <th>TB Quote Volume</th>\n",
       "      <th>...</th>\n",
       "      <th>year</th>\n",
       "      <th>month</th>\n",
       "      <th>day_of_year</th>\n",
       "      <th>day_name</th>\n",
       "      <th>day_of_week</th>\n",
       "      <th>day_of_month</th>\n",
       "      <th>quarter</th>\n",
       "      <th>hour</th>\n",
       "      <th>minute</th>\n",
       "      <th>date</th>\n",
       "    </tr>\n",
       "    <tr>\n",
       "      <th>Open Time</th>\n",
       "      <th></th>\n",
       "      <th></th>\n",
       "      <th></th>\n",
       "      <th></th>\n",
       "      <th></th>\n",
       "      <th></th>\n",
       "      <th></th>\n",
       "      <th></th>\n",
       "      <th></th>\n",
       "      <th></th>\n",
       "      <th></th>\n",
       "      <th></th>\n",
       "      <th></th>\n",
       "      <th></th>\n",
       "      <th></th>\n",
       "      <th></th>\n",
       "      <th></th>\n",
       "      <th></th>\n",
       "      <th></th>\n",
       "      <th></th>\n",
       "      <th></th>\n",
       "    </tr>\n",
       "  </thead>\n",
       "  <tbody>\n",
       "    <tr>\n",
       "      <th>2017-08-17 04:00:00</th>\n",
       "      <td>4261.48</td>\n",
       "      <td>4280.56</td>\n",
       "      <td>4261.48</td>\n",
       "      <td>4261.48</td>\n",
       "      <td>2.189061</td>\n",
       "      <td>2017-08-17 04:14:59.999000064</td>\n",
       "      <td>9333.620962</td>\n",
       "      <td>9</td>\n",
       "      <td>0.489061</td>\n",
       "      <td>2089.104962</td>\n",
       "      <td>...</td>\n",
       "      <td>2017</td>\n",
       "      <td>8</td>\n",
       "      <td>229</td>\n",
       "      <td>Thursday</td>\n",
       "      <td>3</td>\n",
       "      <td>31</td>\n",
       "      <td>3</td>\n",
       "      <td>4</td>\n",
       "      <td>0</td>\n",
       "      <td>2017-08-17</td>\n",
       "    </tr>\n",
       "    <tr>\n",
       "      <th>2017-08-17 04:15:00</th>\n",
       "      <td>4261.48</td>\n",
       "      <td>4270.41</td>\n",
       "      <td>4261.32</td>\n",
       "      <td>4261.45</td>\n",
       "      <td>9.119865</td>\n",
       "      <td>2017-08-17 04:29:59.999000064</td>\n",
       "      <td>38891.133046</td>\n",
       "      <td>40</td>\n",
       "      <td>3.447113</td>\n",
       "      <td>14703.934995</td>\n",
       "      <td>...</td>\n",
       "      <td>2017</td>\n",
       "      <td>8</td>\n",
       "      <td>229</td>\n",
       "      <td>Thursday</td>\n",
       "      <td>3</td>\n",
       "      <td>31</td>\n",
       "      <td>3</td>\n",
       "      <td>4</td>\n",
       "      <td>15</td>\n",
       "      <td>2017-08-17</td>\n",
       "    </tr>\n",
       "    <tr>\n",
       "      <th>2017-08-17 04:30:00</th>\n",
       "      <td>4280.00</td>\n",
       "      <td>4310.07</td>\n",
       "      <td>4267.99</td>\n",
       "      <td>4310.07</td>\n",
       "      <td>21.923552</td>\n",
       "      <td>2017-08-17 04:44:59.999000064</td>\n",
       "      <td>94080.917568</td>\n",
       "      <td>58</td>\n",
       "      <td>20.421317</td>\n",
       "      <td>87620.977876</td>\n",
       "      <td>...</td>\n",
       "      <td>2017</td>\n",
       "      <td>8</td>\n",
       "      <td>229</td>\n",
       "      <td>Thursday</td>\n",
       "      <td>3</td>\n",
       "      <td>31</td>\n",
       "      <td>3</td>\n",
       "      <td>4</td>\n",
       "      <td>30</td>\n",
       "      <td>2017-08-17</td>\n",
       "    </tr>\n",
       "    <tr>\n",
       "      <th>2017-08-17 04:45:00</th>\n",
       "      <td>4310.07</td>\n",
       "      <td>4313.62</td>\n",
       "      <td>4291.37</td>\n",
       "      <td>4308.83</td>\n",
       "      <td>13.948531</td>\n",
       "      <td>2017-08-17 04:59:59.999000064</td>\n",
       "      <td>60060.466816</td>\n",
       "      <td>64</td>\n",
       "      <td>10.803012</td>\n",
       "      <td>46538.460109</td>\n",
       "      <td>...</td>\n",
       "      <td>2017</td>\n",
       "      <td>8</td>\n",
       "      <td>229</td>\n",
       "      <td>Thursday</td>\n",
       "      <td>3</td>\n",
       "      <td>31</td>\n",
       "      <td>3</td>\n",
       "      <td>4</td>\n",
       "      <td>45</td>\n",
       "      <td>2017-08-17</td>\n",
       "    </tr>\n",
       "    <tr>\n",
       "      <th>2017-08-17 05:00:00</th>\n",
       "      <td>4308.83</td>\n",
       "      <td>4328.69</td>\n",
       "      <td>4304.31</td>\n",
       "      <td>4304.31</td>\n",
       "      <td>5.101153</td>\n",
       "      <td>2017-08-17 05:14:59.999000064</td>\n",
       "      <td>22006.533111</td>\n",
       "      <td>44</td>\n",
       "      <td>3.496635</td>\n",
       "      <td>15093.783057</td>\n",
       "      <td>...</td>\n",
       "      <td>2017</td>\n",
       "      <td>8</td>\n",
       "      <td>229</td>\n",
       "      <td>Thursday</td>\n",
       "      <td>3</td>\n",
       "      <td>31</td>\n",
       "      <td>3</td>\n",
       "      <td>5</td>\n",
       "      <td>0</td>\n",
       "      <td>2017-08-17</td>\n",
       "    </tr>\n",
       "  </tbody>\n",
       "</table>\n",
       "<p>5 rows × 21 columns</p>\n",
       "</div>\n",
       "      <button class=\"colab-df-convert\" onclick=\"convertToInteractive('df-ec689a2a-0850-43bb-83e9-daecb6aeb502')\"\n",
       "              title=\"Convert this dataframe to an interactive table.\"\n",
       "              style=\"display:none;\">\n",
       "        \n",
       "  <svg xmlns=\"http://www.w3.org/2000/svg\" height=\"24px\"viewBox=\"0 0 24 24\"\n",
       "       width=\"24px\">\n",
       "    <path d=\"M0 0h24v24H0V0z\" fill=\"none\"/>\n",
       "    <path d=\"M18.56 5.44l.94 2.06.94-2.06 2.06-.94-2.06-.94-.94-2.06-.94 2.06-2.06.94zm-11 1L8.5 8.5l.94-2.06 2.06-.94-2.06-.94L8.5 2.5l-.94 2.06-2.06.94zm10 10l.94 2.06.94-2.06 2.06-.94-2.06-.94-.94-2.06-.94 2.06-2.06.94z\"/><path d=\"M17.41 7.96l-1.37-1.37c-.4-.4-.92-.59-1.43-.59-.52 0-1.04.2-1.43.59L10.3 9.45l-7.72 7.72c-.78.78-.78 2.05 0 2.83L4 21.41c.39.39.9.59 1.41.59.51 0 1.02-.2 1.41-.59l7.78-7.78 2.81-2.81c.8-.78.8-2.07 0-2.86zM5.41 20L4 18.59l7.72-7.72 1.47 1.35L5.41 20z\"/>\n",
       "  </svg>\n",
       "      </button>\n",
       "      \n",
       "  <style>\n",
       "    .colab-df-container {\n",
       "      display:flex;\n",
       "      flex-wrap:wrap;\n",
       "      gap: 12px;\n",
       "    }\n",
       "\n",
       "    .colab-df-convert {\n",
       "      background-color: #E8F0FE;\n",
       "      border: none;\n",
       "      border-radius: 50%;\n",
       "      cursor: pointer;\n",
       "      display: none;\n",
       "      fill: #1967D2;\n",
       "      height: 32px;\n",
       "      padding: 0 0 0 0;\n",
       "      width: 32px;\n",
       "    }\n",
       "\n",
       "    .colab-df-convert:hover {\n",
       "      background-color: #E2EBFA;\n",
       "      box-shadow: 0px 1px 2px rgba(60, 64, 67, 0.3), 0px 1px 3px 1px rgba(60, 64, 67, 0.15);\n",
       "      fill: #174EA6;\n",
       "    }\n",
       "\n",
       "    [theme=dark] .colab-df-convert {\n",
       "      background-color: #3B4455;\n",
       "      fill: #D2E3FC;\n",
       "    }\n",
       "\n",
       "    [theme=dark] .colab-df-convert:hover {\n",
       "      background-color: #434B5C;\n",
       "      box-shadow: 0px 1px 3px 1px rgba(0, 0, 0, 0.15);\n",
       "      filter: drop-shadow(0px 1px 2px rgba(0, 0, 0, 0.3));\n",
       "      fill: #FFFFFF;\n",
       "    }\n",
       "  </style>\n",
       "\n",
       "      <script>\n",
       "        const buttonEl =\n",
       "          document.querySelector('#df-ec689a2a-0850-43bb-83e9-daecb6aeb502 button.colab-df-convert');\n",
       "        buttonEl.style.display =\n",
       "          google.colab.kernel.accessAllowed ? 'block' : 'none';\n",
       "\n",
       "        async function convertToInteractive(key) {\n",
       "          const element = document.querySelector('#df-ec689a2a-0850-43bb-83e9-daecb6aeb502');\n",
       "          const dataTable =\n",
       "            await google.colab.kernel.invokeFunction('convertToInteractive',\n",
       "                                                     [key], {});\n",
       "          if (!dataTable) return;\n",
       "\n",
       "          const docLinkHtml = 'Like what you see? Visit the ' +\n",
       "            '<a target=\"_blank\" href=https://colab.research.google.com/notebooks/data_table.ipynb>data table notebook</a>'\n",
       "            + ' to learn more about interactive tables.';\n",
       "          element.innerHTML = '';\n",
       "          dataTable['output_type'] = 'display_data';\n",
       "          await google.colab.output.renderOutput(dataTable, element);\n",
       "          const docLink = document.createElement('div');\n",
       "          docLink.innerHTML = docLinkHtml;\n",
       "          element.appendChild(docLink);\n",
       "        }\n",
       "      </script>\n",
       "    </div>\n",
       "  </div>\n",
       "  "
      ],
      "text/plain": [
       "                        Open     High      Low    Close     Volume  \\\n",
       "Open Time                                                            \n",
       "2017-08-17 04:00:00  4261.48  4280.56  4261.48  4261.48   2.189061   \n",
       "2017-08-17 04:15:00  4261.48  4270.41  4261.32  4261.45   9.119865   \n",
       "2017-08-17 04:30:00  4280.00  4310.07  4267.99  4310.07  21.923552   \n",
       "2017-08-17 04:45:00  4310.07  4313.62  4291.37  4308.83  13.948531   \n",
       "2017-08-17 05:00:00  4308.83  4328.69  4304.31  4304.31   5.101153   \n",
       "\n",
       "                                       Close Time  Quote Asset Volume  \\\n",
       "Open Time                                                               \n",
       "2017-08-17 04:00:00 2017-08-17 04:14:59.999000064         9333.620962   \n",
       "2017-08-17 04:15:00 2017-08-17 04:29:59.999000064        38891.133046   \n",
       "2017-08-17 04:30:00 2017-08-17 04:44:59.999000064        94080.917568   \n",
       "2017-08-17 04:45:00 2017-08-17 04:59:59.999000064        60060.466816   \n",
       "2017-08-17 05:00:00 2017-08-17 05:14:59.999000064        22006.533111   \n",
       "\n",
       "                     Number of Trades  TB Base Volume  TB Quote Volume  ...  \\\n",
       "Open Time                                                               ...   \n",
       "2017-08-17 04:00:00                 9        0.489061      2089.104962  ...   \n",
       "2017-08-17 04:15:00                40        3.447113     14703.934995  ...   \n",
       "2017-08-17 04:30:00                58       20.421317     87620.977876  ...   \n",
       "2017-08-17 04:45:00                64       10.803012     46538.460109  ...   \n",
       "2017-08-17 05:00:00                44        3.496635     15093.783057  ...   \n",
       "\n",
       "                     year  month  day_of_year  day_name day_of_week  \\\n",
       "Open Time                                                             \n",
       "2017-08-17 04:00:00  2017      8          229  Thursday           3   \n",
       "2017-08-17 04:15:00  2017      8          229  Thursday           3   \n",
       "2017-08-17 04:30:00  2017      8          229  Thursday           3   \n",
       "2017-08-17 04:45:00  2017      8          229  Thursday           3   \n",
       "2017-08-17 05:00:00  2017      8          229  Thursday           3   \n",
       "\n",
       "                     day_of_month  quarter  hour  minute        date  \n",
       "Open Time                                                             \n",
       "2017-08-17 04:00:00            31        3     4       0  2017-08-17  \n",
       "2017-08-17 04:15:00            31        3     4      15  2017-08-17  \n",
       "2017-08-17 04:30:00            31        3     4      30  2017-08-17  \n",
       "2017-08-17 04:45:00            31        3     4      45  2017-08-17  \n",
       "2017-08-17 05:00:00            31        3     5       0  2017-08-17  \n",
       "\n",
       "[5 rows x 21 columns]"
      ]
     },
     "execution_count": 7,
     "metadata": {},
     "output_type": "execute_result"
    }
   ],
   "source": [
    "bitcoin['year']=bitcoin.index.year.astype(int)\n",
    "bitcoin['month']=bitcoin.index.month.astype(int) \n",
    "bitcoin['day_of_year']=bitcoin.index.dayofyear.astype(int)\n",
    "bitcoin['day_name']=bitcoin.index.day_name()\n",
    "bitcoin['day_of_week']=bitcoin.index.dayofweek.astype(int)\n",
    "bitcoin['day_of_month']=bitcoin.index.days_in_month.astype(int)\n",
    "bitcoin['quarter']=bitcoin.index.quarter.astype(int)\n",
    "bitcoin['hour']=bitcoin.index.hour.astype(int)\n",
    "bitcoin['minute']=bitcoin.index.minute.astype(int)\n",
    "bitcoin['date']=bitcoin.index.date\n",
    "bitcoin.head()"
   ]
  },
  {
   "cell_type": "code",
   "execution_count": null,
   "metadata": {
    "id": "ZN_sA3AQBnpo"
   },
   "outputs": [],
   "source": [
    "from pandas.tseries.holiday import USFederalHolidayCalendar as calendar\n",
    "\n",
    "cal = calendar()\n",
    "holidays = cal.holidays(start='2017-08-17', end='2022-04-12')\n",
    "bitcoin['holiday'] = bitcoin.index.isin(holidays)\n",
    "bitcoin['week'] = bitcoin.index.dayofweek\n",
    "bitcoin.loc[bitcoin['week'] >= 5, 'day_type'] = \"weekend\"\n",
    "bitcoin.loc[bitcoin['week'] < 5, 'day_type'] = \"workday\"\n",
    "bitcoin.loc[bitcoin['holiday'] == True, 'day_type'] = \"holiday\"\n",
    "bitcoin = bitcoin.drop(['holiday', 'week'], axis=1)"
   ]
  },
  {
   "cell_type": "code",
   "execution_count": null,
   "metadata": {
    "colab": {
     "base_uri": "https://localhost:8080/"
    },
    "id": "SHjwjvp5BtRZ",
    "outputId": "70faf99d-f486-4130-8f88-566aa3192446"
   },
   "outputs": [
    {
     "data": {
      "text/plain": [
       "workday    115933\n",
       "weekend     46602\n",
       "holiday        48\n",
       "Name: day_type, dtype: int64"
      ]
     },
     "execution_count": 9,
     "metadata": {},
     "output_type": "execute_result"
    }
   ],
   "source": [
    "bitcoin.day_type.value_counts(dropna=False)"
   ]
  },
  {
   "cell_type": "code",
   "execution_count": null,
   "metadata": {
    "colab": {
     "base_uri": "https://localhost:8080/"
    },
    "id": "v_nvZSuGBvIk",
    "outputId": "51612732-c4c9-40c2-c3ae-5cd89ff40330"
   },
   "outputs": [
    {
     "data": {
      "text/plain": [
       "23    6792\n",
       "0     6788\n",
       "20    6788\n",
       "19    6788\n",
       "18    6788\n",
       "22    6787\n",
       "12    6786\n",
       "21    6785\n",
       "11    6785\n",
       "10    6784\n",
       "1     6784\n",
       "15    6784\n",
       "17    6782\n",
       "14    6782\n",
       "13    6782\n",
       "16    6780\n",
       "9     6777\n",
       "8     6765\n",
       "5     6758\n",
       "7     6756\n",
       "6     6753\n",
       "4     6743\n",
       "3     6734\n",
       "2     6732\n",
       "Name: hour, dtype: int64"
      ]
     },
     "execution_count": 10,
     "metadata": {},
     "output_type": "execute_result"
    }
   ],
   "source": [
    "bitcoin.hour.value_counts()"
   ]
  },
  {
   "cell_type": "markdown",
   "metadata": {
    "id": "ZP_36Zh2YEZc"
   },
   "source": [
    "# Refining the grain of the data:\n",
    "> Defining a function to label the time intervals throughout a day"
   ]
  },
  {
   "cell_type": "code",
   "execution_count": null,
   "metadata": {
    "id": "0qIwMe6ZBw_2"
   },
   "outputs": [],
   "source": [
    "def time_slots(x):\n",
    "    if x in range(6,12):\n",
    "        return 'Morning'\n",
    "    elif x in range(12,17):\n",
    "        return 'Afternoon'\n",
    "    elif x in range(17,22):\n",
    "        return 'Evening'\n",
    "    else:\n",
    "        return 'Late Night'\n",
    "\n",
    "\n",
    "\n",
    "bitcoin['time_desc'] = bitcoin['hour'].apply(time_slots)"
   ]
  },
  {
   "cell_type": "code",
   "execution_count": null,
   "metadata": {
    "colab": {
     "base_uri": "https://localhost:8080/"
    },
    "id": "L-dKRVY3ByOw",
    "outputId": "15f910d0-19a5-47b5-d892-072441aa994d"
   },
   "outputs": [
    {
     "data": {
      "text/plain": [
       "Late Night    54118\n",
       "Morning       40620\n",
       "Evening       33931\n",
       "Afternoon     33914\n",
       "Name: time_desc, dtype: int64"
      ]
     },
     "execution_count": 12,
     "metadata": {},
     "output_type": "execute_result"
    }
   ],
   "source": [
    "bitcoin.time_desc.value_counts(dropna=False)"
   ]
  },
  {
   "cell_type": "code",
   "execution_count": null,
   "metadata": {
    "colab": {
     "base_uri": "https://localhost:8080/"
    },
    "id": "hXMFxBdNBzcO",
    "outputId": "ecdb71ef-b266-4048-fbd9-394e82e09d75"
   },
   "outputs": [
    {
     "name": "stdout",
     "output_type": "stream",
     "text": [
      "<class 'pandas.core.frame.DataFrame'>\n",
      "DatetimeIndex: 162583 entries, 2017-08-17 04:00:00 to 2022-04-12 12:45:00\n",
      "Data columns (total 23 columns):\n",
      " #   Column              Non-Null Count   Dtype         \n",
      "---  ------              --------------   -----         \n",
      " 0   Open                162583 non-null  float64       \n",
      " 1   High                162583 non-null  float64       \n",
      " 2   Low                 162583 non-null  float64       \n",
      " 3   Close               162583 non-null  float64       \n",
      " 4   Volume              162583 non-null  float64       \n",
      " 5   Close Time          162583 non-null  datetime64[ns]\n",
      " 6   Quote Asset Volume  162583 non-null  float64       \n",
      " 7   Number of Trades    162583 non-null  int64         \n",
      " 8   TB Base Volume      162583 non-null  float64       \n",
      " 9   TB Quote Volume     162583 non-null  float64       \n",
      " 10  Ignore              162583 non-null  float64       \n",
      " 11  year                162583 non-null  int64         \n",
      " 12  month               162583 non-null  int64         \n",
      " 13  day_of_year         162583 non-null  int64         \n",
      " 14  day_name            162583 non-null  object        \n",
      " 15  day_of_week         162583 non-null  int64         \n",
      " 16  day_of_month        162583 non-null  int64         \n",
      " 17  quarter             162583 non-null  int64         \n",
      " 18  hour                162583 non-null  int64         \n",
      " 19  minute              162583 non-null  int64         \n",
      " 20  date                162583 non-null  object        \n",
      " 21  day_type            162583 non-null  object        \n",
      " 22  time_desc           162583 non-null  object        \n",
      "dtypes: datetime64[ns](1), float64(9), int64(9), object(4)\n",
      "memory usage: 29.8+ MB\n"
     ]
    }
   ],
   "source": [
    "bitcoin.info()"
   ]
  },
  {
   "cell_type": "code",
   "execution_count": null,
   "metadata": {
    "colab": {
     "base_uri": "https://localhost:8080/"
    },
    "id": "7wpd5z4MB1LP",
    "outputId": "9a78af51-2ce3-4df2-82a5-1782440f78ed"
   },
   "outputs": [
    {
     "data": {
      "text/plain": [
       "3950.00     18\n",
       "6500.00     16\n",
       "3900.00     15\n",
       "3910.00     14\n",
       "4300.00     14\n",
       "            ..\n",
       "8527.97      1\n",
       "8558.04      1\n",
       "8564.90      1\n",
       "8570.89      1\n",
       "40529.98     1\n",
       "Name: Open, Length: 147299, dtype: int64"
      ]
     },
     "execution_count": 14,
     "metadata": {},
     "output_type": "execute_result"
    }
   ],
   "source": [
    "bitcoin.Open.value_counts()"
   ]
  },
  {
   "cell_type": "markdown",
   "metadata": {
    "id": "X5fuWp-gYZQi"
   },
   "source": [
    "#### Rough visualizations of the data"
   ]
  },
  {
   "cell_type": "code",
   "execution_count": null,
   "metadata": {
    "colab": {
     "base_uri": "https://localhost:8080/",
     "height": 286
    },
    "id": "7Ke_ZJiCB3S2",
    "outputId": "9c557105-f55b-4e5e-c65f-259e8c4c0793"
   },
   "outputs": [
    {
     "data": {
      "text/plain": [
       "<matplotlib.axes._subplots.AxesSubplot at 0x7f6e6fba5e50>"
      ]
     },
     "execution_count": 15,
     "metadata": {},
     "output_type": "execute_result"
    },
    {
     "data": {
      "image/png": "[encoded data removed]",
      "text/plain": [
       "<Figure size 432x288 with 1 Axes>"
      ]
     },
     "metadata": {
      "needs_background": "light"
     },
     "output_type": "display_data"
    }
   ],
   "source": [
    "bitcoin['Open'].plot()"
   ]
  },
  {
   "cell_type": "markdown",
   "metadata": {
    "id": "UgRxarv7YffJ"
   },
   "source": [
    "# Filtering the data to show price in accordance to only time values"
   ]
  },
  {
   "cell_type": "code",
   "execution_count": null,
   "metadata": {
    "id": "W1g0ECFxB4bB"
   },
   "outputs": [],
   "source": [
    "bc_crop=bitcoin[['High','Low','year','month','day_of_year','day_name','day_of_week','day_of_month','quarter',\n",
    "                'hour','minute','day_type','time_desc','date']]"
   ]
  },
  {
   "cell_type": "code",
   "execution_count": null,
   "metadata": {
    "colab": {
     "base_uri": "https://localhost:8080/"
    },
    "id": "VrlT62jDB69y",
    "outputId": "1a1f1c9a-528e-4f78-9d12-e6ef664d7086"
   },
   "outputs": [
    {
     "name": "stderr",
     "output_type": "stream",
     "text": [
      "/usr/local/lib/python3.7/dist-packages/ipykernel_launcher.py:2: SettingWithCopyWarning: \n",
      "A value is trying to be set on a copy of a slice from a DataFrame.\n",
      "Try using .loc[row_indexer,col_indexer] = value instead\n",
      "\n",
      "See the caveats in the documentation: https://pandas.pydata.org/pandas-docs/stable/user_guide/indexing.html#returning-a-view-versus-a-copy\n",
      "  \n"
     ]
    }
   ],
   "source": [
    "# Calculating the average price from the 'high' and 'low' columns\n",
    "bc_crop['price']=(bc_crop['High']+bc_crop['Low'])/2."
   ]
  },
  {
   "cell_type": "code",
   "execution_count": null,
   "metadata": {
    "colab": {
     "base_uri": "https://localhost:8080/",
     "height": 238
    },
    "id": "Ubr-2PicB75-",
    "outputId": "9954cdc2-a5ba-49e4-fc5f-513827155b33"
   },
   "outputs": [
    {
     "data": {
      "text/html": [
       "\n",
       "  <div id=\"df-b73b61c7-b2cf-4be6-94e2-2a9e22fe9359\">\n",
       "    <div class=\"colab-df-container\">\n",
       "      <div>\n",
       "<style scoped>\n",
       "    .dataframe tbody tr th:only-of-type {\n",
       "        vertical-align: middle;\n",
       "    }\n",
       "\n",
       "    .dataframe tbody tr th {\n",
       "        vertical-align: top;\n",
       "    }\n",
       "\n",
       "    .dataframe thead th {\n",
       "        text-align: right;\n",
       "    }\n",
       "</style>\n",
       "<table border=\"1\" class=\"dataframe\">\n",
       "  <thead>\n",
       "    <tr style=\"text-align: right;\">\n",
       "      <th></th>\n",
       "      <th>High</th>\n",
       "      <th>Low</th>\n",
       "      <th>year</th>\n",
       "      <th>month</th>\n",
       "      <th>day_of_year</th>\n",
       "      <th>day_name</th>\n",
       "      <th>day_of_week</th>\n",
       "      <th>day_of_month</th>\n",
       "      <th>quarter</th>\n",
       "      <th>hour</th>\n",
       "      <th>minute</th>\n",
       "      <th>day_type</th>\n",
       "      <th>time_desc</th>\n",
       "      <th>date</th>\n",
       "      <th>price</th>\n",
       "    </tr>\n",
       "    <tr>\n",
       "      <th>Open Time</th>\n",
       "      <th></th>\n",
       "      <th></th>\n",
       "      <th></th>\n",
       "      <th></th>\n",
       "      <th></th>\n",
       "      <th></th>\n",
       "      <th></th>\n",
       "      <th></th>\n",
       "      <th></th>\n",
       "      <th></th>\n",
       "      <th></th>\n",
       "      <th></th>\n",
       "      <th></th>\n",
       "      <th></th>\n",
       "      <th></th>\n",
       "    </tr>\n",
       "  </thead>\n",
       "  <tbody>\n",
       "    <tr>\n",
       "      <th>2017-08-17 04:00:00</th>\n",
       "      <td>4280.56</td>\n",
       "      <td>4261.48</td>\n",
       "      <td>2017</td>\n",
       "      <td>8</td>\n",
       "      <td>229</td>\n",
       "      <td>Thursday</td>\n",
       "      <td>3</td>\n",
       "      <td>31</td>\n",
       "      <td>3</td>\n",
       "      <td>4</td>\n",
       "      <td>0</td>\n",
       "      <td>workday</td>\n",
       "      <td>Late Night</td>\n",
       "      <td>2017-08-17</td>\n",
       "      <td>4271.020</td>\n",
       "    </tr>\n",
       "    <tr>\n",
       "      <th>2017-08-17 04:15:00</th>\n",
       "      <td>4270.41</td>\n",
       "      <td>4261.32</td>\n",
       "      <td>2017</td>\n",
       "      <td>8</td>\n",
       "      <td>229</td>\n",
       "      <td>Thursday</td>\n",
       "      <td>3</td>\n",
       "      <td>31</td>\n",
       "      <td>3</td>\n",
       "      <td>4</td>\n",
       "      <td>15</td>\n",
       "      <td>workday</td>\n",
       "      <td>Late Night</td>\n",
       "      <td>2017-08-17</td>\n",
       "      <td>4265.865</td>\n",
       "    </tr>\n",
       "    <tr>\n",
       "      <th>2017-08-17 04:30:00</th>\n",
       "      <td>4310.07</td>\n",
       "      <td>4267.99</td>\n",
       "      <td>2017</td>\n",
       "      <td>8</td>\n",
       "      <td>229</td>\n",
       "      <td>Thursday</td>\n",
       "      <td>3</td>\n",
       "      <td>31</td>\n",
       "      <td>3</td>\n",
       "      <td>4</td>\n",
       "      <td>30</td>\n",
       "      <td>workday</td>\n",
       "      <td>Late Night</td>\n",
       "      <td>2017-08-17</td>\n",
       "      <td>4289.030</td>\n",
       "    </tr>\n",
       "    <tr>\n",
       "      <th>2017-08-17 04:45:00</th>\n",
       "      <td>4313.62</td>\n",
       "      <td>4291.37</td>\n",
       "      <td>2017</td>\n",
       "      <td>8</td>\n",
       "      <td>229</td>\n",
       "      <td>Thursday</td>\n",
       "      <td>3</td>\n",
       "      <td>31</td>\n",
       "      <td>3</td>\n",
       "      <td>4</td>\n",
       "      <td>45</td>\n",
       "      <td>workday</td>\n",
       "      <td>Late Night</td>\n",
       "      <td>2017-08-17</td>\n",
       "      <td>4302.495</td>\n",
       "    </tr>\n",
       "    <tr>\n",
       "      <th>2017-08-17 05:00:00</th>\n",
       "      <td>4328.69</td>\n",
       "      <td>4304.31</td>\n",
       "      <td>2017</td>\n",
       "      <td>8</td>\n",
       "      <td>229</td>\n",
       "      <td>Thursday</td>\n",
       "      <td>3</td>\n",
       "      <td>31</td>\n",
       "      <td>3</td>\n",
       "      <td>5</td>\n",
       "      <td>0</td>\n",
       "      <td>workday</td>\n",
       "      <td>Late Night</td>\n",
       "      <td>2017-08-17</td>\n",
       "      <td>4316.500</td>\n",
       "    </tr>\n",
       "  </tbody>\n",
       "</table>\n",
       "</div>\n",
       "      <button class=\"colab-df-convert\" onclick=\"convertToInteractive('df-b73b61c7-b2cf-4be6-94e2-2a9e22fe9359')\"\n",
       "              title=\"Convert this dataframe to an interactive table.\"\n",
       "              style=\"display:none;\">\n",
       "        \n",
       "  <svg xmlns=\"http://www.w3.org/2000/svg\" height=\"24px\"viewBox=\"0 0 24 24\"\n",
       "       width=\"24px\">\n",
       "    <path d=\"M0 0h24v24H0V0z\" fill=\"none\"/>\n",
       "    <path d=\"M18.56 5.44l.94 2.06.94-2.06 2.06-.94-2.06-.94-.94-2.06-.94 2.06-2.06.94zm-11 1L8.5 8.5l.94-2.06 2.06-.94-2.06-.94L8.5 2.5l-.94 2.06-2.06.94zm10 10l.94 2.06.94-2.06 2.06-.94-2.06-.94-.94-2.06-.94 2.06-2.06.94z\"/><path d=\"M17.41 7.96l-1.37-1.37c-.4-.4-.92-.59-1.43-.59-.52 0-1.04.2-1.43.59L10.3 9.45l-7.72 7.72c-.78.78-.78 2.05 0 2.83L4 21.41c.39.39.9.59 1.41.59.51 0 1.02-.2 1.41-.59l7.78-7.78 2.81-2.81c.8-.78.8-2.07 0-2.86zM5.41 20L4 18.59l7.72-7.72 1.47 1.35L5.41 20z\"/>\n",
       "  </svg>\n",
       "      </button>\n",
       "      \n",
       "  <style>\n",
       "    .colab-df-container {\n",
       "      display:flex;\n",
       "      flex-wrap:wrap;\n",
       "      gap: 12px;\n",
       "    }\n",
       "\n",
       "    .colab-df-convert {\n",
       "      background-color: #E8F0FE;\n",
       "      border: none;\n",
       "      border-radius: 50%;\n",
       "      cursor: pointer;\n",
       "      display: none;\n",
       "      fill: #1967D2;\n",
       "      height: 32px;\n",
       "      padding: 0 0 0 0;\n",
       "      width: 32px;\n",
       "    }\n",
       "\n",
       "    .colab-df-convert:hover {\n",
       "      background-color: #E2EBFA;\n",
       "      box-shadow: 0px 1px 2px rgba(60, 64, 67, 0.3), 0px 1px 3px 1px rgba(60, 64, 67, 0.15);\n",
       "      fill: #174EA6;\n",
       "    }\n",
       "\n",
       "    [theme=dark] .colab-df-convert {\n",
       "      background-color: #3B4455;\n",
       "      fill: #D2E3FC;\n",
       "    }\n",
       "\n",
       "    [theme=dark] .colab-df-convert:hover {\n",
       "      background-color: #434B5C;\n",
       "      box-shadow: 0px 1px 3px 1px rgba(0, 0, 0, 0.15);\n",
       "      filter: drop-shadow(0px 1px 2px rgba(0, 0, 0, 0.3));\n",
       "      fill: #FFFFFF;\n",
       "    }\n",
       "  </style>\n",
       "\n",
       "      <script>\n",
       "        const buttonEl =\n",
       "          document.querySelector('#df-b73b61c7-b2cf-4be6-94e2-2a9e22fe9359 button.colab-df-convert');\n",
       "        buttonEl.style.display =\n",
       "          google.colab.kernel.accessAllowed ? 'block' : 'none';\n",
       "\n",
       "        async function convertToInteractive(key) {\n",
       "          const element = document.querySelector('#df-b73b61c7-b2cf-4be6-94e2-2a9e22fe9359');\n",
       "          const dataTable =\n",
       "            await google.colab.kernel.invokeFunction('convertToInteractive',\n",
       "                                                     [key], {});\n",
       "          if (!dataTable) return;\n",
       "\n",
       "          const docLinkHtml = 'Like what you see? Visit the ' +\n",
       "            '<a target=\"_blank\" href=https://colab.research.google.com/notebooks/data_table.ipynb>data table notebook</a>'\n",
       "            + ' to learn more about interactive tables.';\n",
       "          element.innerHTML = '';\n",
       "          dataTable['output_type'] = 'display_data';\n",
       "          await google.colab.output.renderOutput(dataTable, element);\n",
       "          const docLink = document.createElement('div');\n",
       "          docLink.innerHTML = docLinkHtml;\n",
       "          element.appendChild(docLink);\n",
       "        }\n",
       "      </script>\n",
       "    </div>\n",
       "  </div>\n",
       "  "
      ],
      "text/plain": [
       "                        High      Low  year  month  day_of_year  day_name  \\\n",
       "Open Time                                                                   \n",
       "2017-08-17 04:00:00  4280.56  4261.48  2017      8          229  Thursday   \n",
       "2017-08-17 04:15:00  4270.41  4261.32  2017      8          229  Thursday   \n",
       "2017-08-17 04:30:00  4310.07  4267.99  2017      8          229  Thursday   \n",
       "2017-08-17 04:45:00  4313.62  4291.37  2017      8          229  Thursday   \n",
       "2017-08-17 05:00:00  4328.69  4304.31  2017      8          229  Thursday   \n",
       "\n",
       "                     day_of_week  day_of_month  quarter  hour  minute  \\\n",
       "Open Time                                                               \n",
       "2017-08-17 04:00:00            3            31        3     4       0   \n",
       "2017-08-17 04:15:00            3            31        3     4      15   \n",
       "2017-08-17 04:30:00            3            31        3     4      30   \n",
       "2017-08-17 04:45:00            3            31        3     4      45   \n",
       "2017-08-17 05:00:00            3            31        3     5       0   \n",
       "\n",
       "                    day_type   time_desc        date     price  \n",
       "Open Time                                                       \n",
       "2017-08-17 04:00:00  workday  Late Night  2017-08-17  4271.020  \n",
       "2017-08-17 04:15:00  workday  Late Night  2017-08-17  4265.865  \n",
       "2017-08-17 04:30:00  workday  Late Night  2017-08-17  4289.030  \n",
       "2017-08-17 04:45:00  workday  Late Night  2017-08-17  4302.495  \n",
       "2017-08-17 05:00:00  workday  Late Night  2017-08-17  4316.500  "
      ]
     },
     "execution_count": 18,
     "metadata": {},
     "output_type": "execute_result"
    }
   ],
   "source": [
    "bc_crop.head()"
   ]
  },
  {
   "cell_type": "code",
   "execution_count": null,
   "metadata": {
    "colab": {
     "base_uri": "https://localhost:8080/"
    },
    "id": "PmjQQ7KKB9rY",
    "outputId": "3a910feb-d5c3-4f5b-f503-a44d151e6e9f"
   },
   "outputs": [
    {
     "name": "stderr",
     "output_type": "stream",
     "text": [
      "/usr/local/lib/python3.7/dist-packages/pandas/core/frame.py:4913: SettingWithCopyWarning: \n",
      "A value is trying to be set on a copy of a slice from a DataFrame\n",
      "\n",
      "See the caveats in the documentation: https://pandas.pydata.org/pandas-docs/stable/user_guide/indexing.html#returning-a-view-versus-a-copy\n",
      "  errors=errors,\n"
     ]
    }
   ],
   "source": [
    "# Dropped the high and low columns as only the average price column is needed\n",
    "bc_crop.drop(columns=['High','Low'],inplace=True)"
   ]
  },
  {
   "cell_type": "markdown",
   "metadata": {
    "id": "sim73vPTZGJG"
   },
   "source": [
    "# Grouped the data by date and aggregated with the mean of price"
   ]
  },
  {
   "cell_type": "code",
   "execution_count": null,
   "metadata": {
    "id": "_jAlDc2TB_37"
   },
   "outputs": [],
   "source": [
    "bc=bc_crop[['date','price','day_of_week','day_of_month','quarter','day_type','year','month']].groupby(by='date').mean()"
   ]
  },
  {
   "cell_type": "code",
   "execution_count": null,
   "metadata": {
    "colab": {
     "base_uri": "https://localhost:8080/",
     "height": 238
    },
    "id": "2E0bp1StCA_S",
    "outputId": "1057c076-6973-4504-fc42-a5768c3bc160"
   },
   "outputs": [
    {
     "data": {
      "text/html": [
       "\n",
       "  <div id=\"df-9cbb23f0-ed2c-4e90-8aa2-5e6fb24fe80d\">\n",
       "    <div class=\"colab-df-container\">\n",
       "      <div>\n",
       "<style scoped>\n",
       "    .dataframe tbody tr th:only-of-type {\n",
       "        vertical-align: middle;\n",
       "    }\n",
       "\n",
       "    .dataframe tbody tr th {\n",
       "        vertical-align: top;\n",
       "    }\n",
       "\n",
       "    .dataframe thead th {\n",
       "        text-align: right;\n",
       "    }\n",
       "</style>\n",
       "<table border=\"1\" class=\"dataframe\">\n",
       "  <thead>\n",
       "    <tr style=\"text-align: right;\">\n",
       "      <th></th>\n",
       "      <th>price</th>\n",
       "      <th>day_of_week</th>\n",
       "      <th>day_of_month</th>\n",
       "      <th>quarter</th>\n",
       "      <th>year</th>\n",
       "      <th>month</th>\n",
       "    </tr>\n",
       "    <tr>\n",
       "      <th>date</th>\n",
       "      <th></th>\n",
       "      <th></th>\n",
       "      <th></th>\n",
       "      <th></th>\n",
       "      <th></th>\n",
       "      <th></th>\n",
       "    </tr>\n",
       "  </thead>\n",
       "  <tbody>\n",
       "    <tr>\n",
       "      <th>2017-08-17</th>\n",
       "      <td>4355.074188</td>\n",
       "      <td>3.0</td>\n",
       "      <td>31.0</td>\n",
       "      <td>3.0</td>\n",
       "      <td>2017.0</td>\n",
       "      <td>8.0</td>\n",
       "    </tr>\n",
       "    <tr>\n",
       "      <th>2017-08-18</th>\n",
       "      <td>4225.296771</td>\n",
       "      <td>4.0</td>\n",
       "      <td>31.0</td>\n",
       "      <td>3.0</td>\n",
       "      <td>2017.0</td>\n",
       "      <td>8.0</td>\n",
       "    </tr>\n",
       "    <tr>\n",
       "      <th>2017-08-19</th>\n",
       "      <td>4067.471198</td>\n",
       "      <td>5.0</td>\n",
       "      <td>31.0</td>\n",
       "      <td>3.0</td>\n",
       "      <td>2017.0</td>\n",
       "      <td>8.0</td>\n",
       "    </tr>\n",
       "    <tr>\n",
       "      <th>2017-08-20</th>\n",
       "      <td>4120.009740</td>\n",
       "      <td>6.0</td>\n",
       "      <td>31.0</td>\n",
       "      <td>3.0</td>\n",
       "      <td>2017.0</td>\n",
       "      <td>8.0</td>\n",
       "    </tr>\n",
       "    <tr>\n",
       "      <th>2017-08-21</th>\n",
       "      <td>4030.582865</td>\n",
       "      <td>0.0</td>\n",
       "      <td>31.0</td>\n",
       "      <td>3.0</td>\n",
       "      <td>2017.0</td>\n",
       "      <td>8.0</td>\n",
       "    </tr>\n",
       "  </tbody>\n",
       "</table>\n",
       "</div>\n",
       "      <button class=\"colab-df-convert\" onclick=\"convertToInteractive('df-9cbb23f0-ed2c-4e90-8aa2-5e6fb24fe80d')\"\n",
       "              title=\"Convert this dataframe to an interactive table.\"\n",
       "              style=\"display:none;\">\n",
       "        \n",
       "  <svg xmlns=\"http://www.w3.org/2000/svg\" height=\"24px\"viewBox=\"0 0 24 24\"\n",
       "       width=\"24px\">\n",
       "    <path d=\"M0 0h24v24H0V0z\" fill=\"none\"/>\n",
       "    <path d=\"M18.56 5.44l.94 2.06.94-2.06 2.06-.94-2.06-.94-.94-2.06-.94 2.06-2.06.94zm-11 1L8.5 8.5l.94-2.06 2.06-.94-2.06-.94L8.5 2.5l-.94 2.06-2.06.94zm10 10l.94 2.06.94-2.06 2.06-.94-2.06-.94-.94-2.06-.94 2.06-2.06.94z\"/><path d=\"M17.41 7.96l-1.37-1.37c-.4-.4-.92-.59-1.43-.59-.52 0-1.04.2-1.43.59L10.3 9.45l-7.72 7.72c-.78.78-.78 2.05 0 2.83L4 21.41c.39.39.9.59 1.41.59.51 0 1.02-.2 1.41-.59l7.78-7.78 2.81-2.81c.8-.78.8-2.07 0-2.86zM5.41 20L4 18.59l7.72-7.72 1.47 1.35L5.41 20z\"/>\n",
       "  </svg>\n",
       "      </button>\n",
       "      \n",
       "  <style>\n",
       "    .colab-df-container {\n",
       "      display:flex;\n",
       "      flex-wrap:wrap;\n",
       "      gap: 12px;\n",
       "    }\n",
       "\n",
       "    .colab-df-convert {\n",
       "      background-color: #E8F0FE;\n",
       "      border: none;\n",
       "      border-radius: 50%;\n",
       "      cursor: pointer;\n",
       "      display: none;\n",
       "      fill: #1967D2;\n",
       "      height: 32px;\n",
       "      padding: 0 0 0 0;\n",
       "      width: 32px;\n",
       "    }\n",
       "\n",
       "    .colab-df-convert:hover {\n",
       "      background-color: #E2EBFA;\n",
       "      box-shadow: 0px 1px 2px rgba(60, 64, 67, 0.3), 0px 1px 3px 1px rgba(60, 64, 67, 0.15);\n",
       "      fill: #174EA6;\n",
       "    }\n",
       "\n",
       "    [theme=dark] .colab-df-convert {\n",
       "      background-color: #3B4455;\n",
       "      fill: #D2E3FC;\n",
       "    }\n",
       "\n",
       "    [theme=dark] .colab-df-convert:hover {\n",
       "      background-color: #434B5C;\n",
       "      box-shadow: 0px 1px 3px 1px rgba(0, 0, 0, 0.15);\n",
       "      filter: drop-shadow(0px 1px 2px rgba(0, 0, 0, 0.3));\n",
       "      fill: #FFFFFF;\n",
       "    }\n",
       "  </style>\n",
       "\n",
       "      <script>\n",
       "        const buttonEl =\n",
       "          document.querySelector('#df-9cbb23f0-ed2c-4e90-8aa2-5e6fb24fe80d button.colab-df-convert');\n",
       "        buttonEl.style.display =\n",
       "          google.colab.kernel.accessAllowed ? 'block' : 'none';\n",
       "\n",
       "        async function convertToInteractive(key) {\n",
       "          const element = document.querySelector('#df-9cbb23f0-ed2c-4e90-8aa2-5e6fb24fe80d');\n",
       "          const dataTable =\n",
       "            await google.colab.kernel.invokeFunction('convertToInteractive',\n",
       "                                                     [key], {});\n",
       "          if (!dataTable) return;\n",
       "\n",
       "          const docLinkHtml = 'Like what you see? Visit the ' +\n",
       "            '<a target=\"_blank\" href=https://colab.research.google.com/notebooks/data_table.ipynb>data table notebook</a>'\n",
       "            + ' to learn more about interactive tables.';\n",
       "          element.innerHTML = '';\n",
       "          dataTable['output_type'] = 'display_data';\n",
       "          await google.colab.output.renderOutput(dataTable, element);\n",
       "          const docLink = document.createElement('div');\n",
       "          docLink.innerHTML = docLinkHtml;\n",
       "          element.appendChild(docLink);\n",
       "        }\n",
       "      </script>\n",
       "    </div>\n",
       "  </div>\n",
       "  "
      ],
      "text/plain": [
       "                  price  day_of_week  day_of_month  quarter    year  month\n",
       "date                                                                      \n",
       "2017-08-17  4355.074188          3.0          31.0      3.0  2017.0    8.0\n",
       "2017-08-18  4225.296771          4.0          31.0      3.0  2017.0    8.0\n",
       "2017-08-19  4067.471198          5.0          31.0      3.0  2017.0    8.0\n",
       "2017-08-20  4120.009740          6.0          31.0      3.0  2017.0    8.0\n",
       "2017-08-21  4030.582865          0.0          31.0      3.0  2017.0    8.0"
      ]
     },
     "execution_count": 21,
     "metadata": {},
     "output_type": "execute_result"
    }
   ],
   "source": [
    "bc.head()"
   ]
  },
  {
   "cell_type": "code",
   "execution_count": null,
   "metadata": {
    "colab": {
     "base_uri": "https://localhost:8080/",
     "height": 298
    },
    "id": "od36VIgcCCMV",
    "outputId": "433f8402-c926-42ee-d3df-a61c0b264edb"
   },
   "outputs": [
    {
     "data": {
      "text/plain": [
       "<matplotlib.axes._subplots.AxesSubplot at 0x7f6e9de7ff50>"
      ]
     },
     "execution_count": 22,
     "metadata": {},
     "output_type": "execute_result"
    },
    {
     "data": {
      "image/png": "[encoded data removed]",
      "text/plain": [
       "<Figure size 432x288 with 1 Axes>"
      ]
     },
     "metadata": {
      "needs_background": "light"
     },
     "output_type": "display_data"
    }
   ],
   "source": [
    "bc['price'].plot()"
   ]
  },
  {
   "cell_type": "code",
   "execution_count": null,
   "metadata": {
    "colab": {
     "base_uri": "https://localhost:8080/"
    },
    "id": "Jq0riIzVCESd",
    "outputId": "c89c5b01-aad7-46b7-fcea-ddc0e39465f2"
   },
   "outputs": [
    {
     "data": {
      "text/plain": [
       "(1700, 6)"
      ]
     },
     "execution_count": 23,
     "metadata": {},
     "output_type": "execute_result"
    }
   ],
   "source": [
    "day30=bc.index[30]\n",
    "bc.shape"
   ]
  },
  {
   "cell_type": "code",
   "execution_count": null,
   "metadata": {
    "id": "GCYMGIqpCTc6"
   },
   "outputs": [],
   "source": [
    "train=bc[:day30]"
   ]
  },
  {
   "cell_type": "code",
   "execution_count": null,
   "metadata": {
    "colab": {
     "base_uri": "https://localhost:8080/"
    },
    "id": "ylE567XVNWN-",
    "outputId": "b283859d-4baf-45d0-dbe8-a4224eac88e1"
   },
   "outputs": [
    {
     "data": {
      "text/plain": [
       "(31, 6)"
      ]
     },
     "execution_count": 25,
     "metadata": {},
     "output_type": "execute_result"
    }
   ],
   "source": [
    "train.shape"
   ]
  },
  {
   "cell_type": "code",
   "execution_count": null,
   "metadata": {
    "colab": {
     "base_uri": "https://localhost:8080/"
    },
    "id": "YoyPJ3YSD0MS",
    "outputId": "2b8010e0-5c16-481a-aeb8-511b54d07832"
   },
   "outputs": [
    {
     "name": "stdout",
     "output_type": "stream",
     "text": [
      "Performing stepwise search to minimize aic\n",
      " ARIMA(1,1,2)(1,0,1)[25] intercept   : AIC=inf, Time=18.43 sec\n",
      " ARIMA(0,1,0)(0,0,0)[25] intercept   : AIC=12358.741, Time=0.04 sec\n",
      " ARIMA(1,1,0)(1,0,0)[25] intercept   : AIC=12331.609, Time=1.81 sec\n",
      " ARIMA(0,1,1)(0,0,1)[25] intercept   : AIC=12332.770, Time=2.04 sec\n",
      " ARIMA(0,1,0)(0,0,0)[25]             : AIC=12356.818, Time=0.03 sec\n",
      " ARIMA(1,1,0)(0,0,0)[25] intercept   : AIC=12330.013, Time=0.10 sec\n",
      " ARIMA(1,1,0)(0,0,1)[25] intercept   : AIC=12331.533, Time=1.86 sec\n",
      " ARIMA(1,1,0)(1,0,1)[25] intercept   : AIC=inf, Time=6.05 sec\n",
      " ARIMA(2,1,0)(0,0,0)[25] intercept   : AIC=12332.008, Time=0.63 sec\n",
      " ARIMA(1,1,1)(0,0,0)[25] intercept   : AIC=12332.015, Time=0.51 sec\n",
      " ARIMA(0,1,1)(0,0,0)[25] intercept   : AIC=12331.187, Time=0.76 sec\n",
      " ARIMA(2,1,1)(0,0,0)[25] intercept   : AIC=12334.017, Time=0.57 sec\n",
      " ARIMA(1,1,0)(0,0,0)[25]             : AIC=12328.058, Time=0.11 sec\n",
      " ARIMA(1,1,0)(1,0,0)[25]             : AIC=12329.650, Time=0.72 sec\n",
      " ARIMA(1,1,0)(0,0,1)[25]             : AIC=12329.574, Time=0.79 sec\n",
      " ARIMA(1,1,0)(1,0,1)[25]             : AIC=inf, Time=3.74 sec\n",
      " ARIMA(2,1,0)(0,0,0)[25]             : AIC=12330.052, Time=0.24 sec\n",
      " ARIMA(1,1,1)(0,0,0)[25]             : AIC=12330.060, Time=0.19 sec\n",
      " ARIMA(0,1,1)(0,0,0)[25]             : AIC=12329.239, Time=0.15 sec\n",
      " ARIMA(2,1,1)(0,0,0)[25]             : AIC=12332.063, Time=0.20 sec\n",
      "\n",
      "Best model:  ARIMA(1,1,0)(0,0,0)[25]          \n",
      "Total fit time: 39.158 seconds\n"
     ]
    },
    {
     "data": {
      "text/plain": [
       "ARIMA(order=(1, 1, 0), scoring_args={}, seasonal_order=(0, 0, 0, 25),\n",
       "      suppress_warnings=True, with_intercept=False)"
      ]
     },
     "execution_count": 26,
     "metadata": {},
     "output_type": "execute_result"
    }
   ],
   "source": [
    "auto_arima(bc['price'][:int(len(bc)/2)],start_p=1,information_criterion='aic',trace=True,seasonal=True,m=25)"
   ]
  },
  {
   "cell_type": "code",
   "execution_count": null,
   "metadata": {
    "colab": {
     "base_uri": "https://localhost:8080/",
     "height": 297
    },
    "id": "3HSj1RGhD1OQ",
    "outputId": "b7af0685-7178-4174-daee-1f7fa22a2591"
   },
   "outputs": [
    {
     "data": {
      "text/plain": [
       "<matplotlib.axes._subplots.AxesSubplot at 0x7f6e69911ed0>"
      ]
     },
     "execution_count": 27,
     "metadata": {},
     "output_type": "execute_result"
    },
    {
     "data": {
      "image/png": "[encoded data removed]",
      "text/plain": [
       "<Figure size 432x288 with 1 Axes>"
      ]
     },
     "metadata": {
      "needs_background": "light"
     },
     "output_type": "display_data"
    }
   ],
   "source": [
    "train['price'].plot()"
   ]
  },
  {
   "cell_type": "code",
   "execution_count": null,
   "metadata": {
    "colab": {
     "base_uri": "https://localhost:8080/"
    },
    "id": "FmqbhM_oD6Wb",
    "outputId": "c88ed59c-5202-4a3d-fb54-0751f167085d"
   },
   "outputs": [
    {
     "name": "stderr",
     "output_type": "stream",
     "text": [
      "/usr/local/lib/python3.7/dist-packages/ipykernel_launcher.py:1: SettingWithCopyWarning: \n",
      "A value is trying to be set on a copy of a slice from a DataFrame.\n",
      "Try using .loc[row_indexer,col_indexer] = value instead\n",
      "\n",
      "See the caveats in the documentation: https://pandas.pydata.org/pandas-docs/stable/user_guide/indexing.html#returning-a-view-versus-a-copy\n",
      "  \"\"\"Entry point for launching an IPython kernel.\n"
     ]
    }
   ],
   "source": [
    "train['date']=pd.to_datetime(train.index)\n",
    "bc['date']=pd.to_datetime(bc.index)"
   ]
  },
  {
   "cell_type": "code",
   "execution_count": null,
   "metadata": {
    "colab": {
     "base_uri": "https://localhost:8080/"
    },
    "id": "og-eGWtTE4rN",
    "outputId": "b20e177c-b21b-44c8-a792-0fb27412b2ce"
   },
   "outputs": [
    {
     "name": "stderr",
     "output_type": "stream",
     "text": [
      "/usr/local/lib/python3.7/dist-packages/ipykernel_launcher.py:1: SettingWithCopyWarning: \n",
      "A value is trying to be set on a copy of a slice from a DataFrame.\n",
      "Try using .loc[row_indexer,col_indexer] = value instead\n",
      "\n",
      "See the caveats in the documentation: https://pandas.pydata.org/pandas-docs/stable/user_guide/indexing.html#returning-a-view-versus-a-copy\n",
      "  \"\"\"Entry point for launching an IPython kernel.\n"
     ]
    }
   ],
   "source": [
    "train['weekday']=train.date.dt.day_name()\n",
    "bc['weekday']=bc.date.dt.day_name()"
   ]
  },
  {
   "cell_type": "code",
   "execution_count": null,
   "metadata": {
    "colab": {
     "base_uri": "https://localhost:8080/",
     "height": 297
    },
    "id": "g1Ajs9ISE5_W",
    "outputId": "54682f73-4fd8-4e4b-83cc-1657a8149256"
   },
   "outputs": [
    {
     "data": {
      "text/plain": [
       "<matplotlib.axes._subplots.AxesSubplot at 0x7f6e699d48d0>"
      ]
     },
     "execution_count": 30,
     "metadata": {},
     "output_type": "execute_result"
    },
    {
     "data": {
      "image/png": "[encoded data removed]",
      "text/plain": [
       "<Figure size 432x288 with 1 Axes>"
      ]
     },
     "metadata": {
      "needs_background": "light"
     },
     "output_type": "display_data"
    }
   ],
   "source": [
    "sns.boxplot(data=train,x='weekday',y='price',order=['Monday','Tuesday','Wednesday','Thursday','Friday','Saturday','Sunday'])"
   ]
  },
  {
   "cell_type": "code",
   "execution_count": null,
   "metadata": {
    "colab": {
     "base_uri": "https://localhost:8080/",
     "height": 298
    },
    "id": "wE_JOXvTvhHu",
    "outputId": "5f35c0c3-c129-432b-c193-c7e586b2e50f"
   },
   "outputs": [
    {
     "data": {
      "text/plain": [
       "<matplotlib.axes._subplots.AxesSubplot at 0x7f6e69928e10>"
      ]
     },
     "execution_count": 31,
     "metadata": {},
     "output_type": "execute_result"
    },
    {
     "data": {
      "image/png": "[encoded data removed]",
      "text/plain": [
       "<Figure size 432x288 with 1 Axes>"
      ]
     },
     "metadata": {
      "needs_background": "light"
     },
     "output_type": "display_data"
    }
   ],
   "source": [
    "sns.boxplot(data=bc,x='weekday',y='price',order=['Monday','Tuesday','Wednesday','Thursday','Friday','Saturday','Sunday'])"
   ]
  },
  {
   "cell_type": "code",
   "execution_count": null,
   "metadata": {
    "id": "pDsFxqgoFfMx"
   },
   "outputs": [],
   "source": [
    "bc['date']=pd.to_datetime(bc.index)"
   ]
  },
  {
   "cell_type": "code",
   "execution_count": null,
   "metadata": {
    "id": "CRKceO0-FkXX"
   },
   "outputs": [],
   "source": [
    "bc['weekday']=bc.date.dt.day_name()"
   ]
  },
  {
   "cell_type": "code",
   "execution_count": null,
   "metadata": {
    "id": "dUkNtUbDE7Yr"
   },
   "outputs": [],
   "source": [
    "bc['month']=bc.date.dt.month"
   ]
  },
  {
   "cell_type": "code",
   "execution_count": null,
   "metadata": {
    "colab": {
     "base_uri": "https://localhost:8080/",
     "height": 298
    },
    "id": "R0tgq7EZFDML",
    "outputId": "1ef1e399-41d9-4cab-c8ff-e80518b53c84"
   },
   "outputs": [
    {
     "data": {
      "text/plain": [
       "<matplotlib.axes._subplots.AxesSubplot at 0x7f6e69874190>"
      ]
     },
     "execution_count": 35,
     "metadata": {},
     "output_type": "execute_result"
    },
    {
     "data": {
      "image/png": "[encoded data removed]",
      "text/plain": [
       "<Figure size 432x288 with 1 Axes>"
      ]
     },
     "metadata": {
      "needs_background": "light"
     },
     "output_type": "display_data"
    }
   ],
   "source": [
    "sns.boxplot(data=bc,x='month',y='price',whis=1.)"
   ]
  },
  {
   "cell_type": "code",
   "execution_count": null,
   "metadata": {
    "colab": {
     "base_uri": "https://localhost:8080/",
     "height": 585
    },
    "id": "npteAWDcwBrF",
    "outputId": "0d24a25f-7dff-4ca2-d17c-dd2581ab0ab7"
   },
   "outputs": [
    {
     "name": "stderr",
     "output_type": "stream",
     "text": [
      "/usr/local/lib/python3.7/dist-packages/statsmodels/tsa/tsatools.py:142: FutureWarning: In a future version of pandas all arguments of concat except for the argument 'objs' will be keyword-only\n",
      "  x = pd.concat(x[::order], 1)\n"
     ]
    },
    {
     "data": {
      "text/html": [
       "<table class=\"simpletable\">\n",
       "<caption>OLS Regression Results</caption>\n",
       "<tr>\n",
       "  <th>Dep. Variable:</th>          <td>price</td>      <th>  R-squared:         </th> <td>   0.608</td> \n",
       "</tr>\n",
       "<tr>\n",
       "  <th>Model:</th>                   <td>OLS</td>       <th>  Adj. R-squared:    </th> <td>   0.607</td> \n",
       "</tr>\n",
       "<tr>\n",
       "  <th>Method:</th>             <td>Least Squares</td>  <th>  F-statistic:       </th> <td>   655.9</td> \n",
       "</tr>\n",
       "<tr>\n",
       "  <th>Date:</th>             <td>Thu, 14 Apr 2022</td> <th>  Prob (F-statistic):</th>  <td>  0.00</td>  \n",
       "</tr>\n",
       "<tr>\n",
       "  <th>Time:</th>                 <td>13:12:18</td>     <th>  Log-Likelihood:    </th> <td> -18247.</td> \n",
       "</tr>\n",
       "<tr>\n",
       "  <th>No. Observations:</th>      <td>  1700</td>      <th>  AIC:               </th> <td>3.650e+04</td>\n",
       "</tr>\n",
       "<tr>\n",
       "  <th>Df Residuals:</th>          <td>  1695</td>      <th>  BIC:               </th> <td>3.653e+04</td>\n",
       "</tr>\n",
       "<tr>\n",
       "  <th>Df Model:</th>              <td>     4</td>      <th>                     </th>     <td> </td>    \n",
       "</tr>\n",
       "<tr>\n",
       "  <th>Covariance Type:</th>      <td>nonrobust</td>    <th>                     </th>     <td> </td>    \n",
       "</tr>\n",
       "</table>\n",
       "<table class=\"simpletable\">\n",
       "<tr>\n",
       "       <td></td>          <th>coef</th>     <th>std err</th>      <th>t</th>      <th>P>|t|</th>  <th>[0.025</th>    <th>0.975]</th>  \n",
       "</tr>\n",
       "<tr>\n",
       "  <th>const</th>       <td>-2.071e+07</td> <td> 4.06e+05</td> <td>  -50.975</td> <td> 0.000</td> <td>-2.15e+07</td> <td>-1.99e+07</td>\n",
       "</tr>\n",
       "<tr>\n",
       "  <th>month</th>       <td>  764.9593</td> <td>  328.770</td> <td>    2.327</td> <td> 0.020</td> <td>  120.122</td> <td> 1409.797</td>\n",
       "</tr>\n",
       "<tr>\n",
       "  <th>year</th>        <td> 1.026e+04</td> <td>  201.097</td> <td>   51.028</td> <td> 0.000</td> <td> 9867.101</td> <td> 1.07e+04</td>\n",
       "</tr>\n",
       "<tr>\n",
       "  <th>quarter</th>     <td>   95.8783</td> <td> 1015.267</td> <td>    0.094</td> <td> 0.925</td> <td>-1895.430</td> <td> 2087.187</td>\n",
       "</tr>\n",
       "<tr>\n",
       "  <th>day_of_week</th> <td>   -4.3134</td> <td>  134.737</td> <td>   -0.032</td> <td> 0.974</td> <td> -268.583</td> <td>  259.956</td>\n",
       "</tr>\n",
       "</table>\n",
       "<table class=\"simpletable\">\n",
       "<tr>\n",
       "  <th>Omnibus:</th>       <td>89.467</td> <th>  Durbin-Watson:     </th> <td>   0.006</td>\n",
       "</tr>\n",
       "<tr>\n",
       "  <th>Prob(Omnibus):</th> <td> 0.000</td> <th>  Jarque-Bera (JB):  </th> <td>  86.928</td>\n",
       "</tr>\n",
       "<tr>\n",
       "  <th>Skew:</th>          <td> 0.505</td> <th>  Prob(JB):          </th> <td>1.33e-19</td>\n",
       "</tr>\n",
       "<tr>\n",
       "  <th>Kurtosis:</th>      <td> 2.547</td> <th>  Cond. No.          </th> <td>3.04e+06</td>\n",
       "</tr>\n",
       "</table><br/><br/>Notes:<br/>[1] Standard Errors assume that the covariance matrix of the errors is correctly specified.<br/>[2] The condition number is large, 3.04e+06. This might indicate that there are<br/>strong multicollinearity or other numerical problems."
      ],
      "text/plain": [
       "<class 'statsmodels.iolib.summary.Summary'>\n",
       "\"\"\"\n",
       "                            OLS Regression Results                            \n",
       "==============================================================================\n",
       "Dep. Variable:                  price   R-squared:                       0.608\n",
       "Model:                            OLS   Adj. R-squared:                  0.607\n",
       "Method:                 Least Squares   F-statistic:                     655.9\n",
       "Date:                Thu, 14 Apr 2022   Prob (F-statistic):               0.00\n",
       "Time:                        13:12:18   Log-Likelihood:                -18247.\n",
       "No. Observations:                1700   AIC:                         3.650e+04\n",
       "Df Residuals:                    1695   BIC:                         3.653e+04\n",
       "Df Model:                           4                                         \n",
       "Covariance Type:            nonrobust                                         \n",
       "===============================================================================\n",
       "                  coef    std err          t      P>|t|      [0.025      0.975]\n",
       "-------------------------------------------------------------------------------\n",
       "const       -2.071e+07   4.06e+05    -50.975      0.000   -2.15e+07   -1.99e+07\n",
       "month         764.9593    328.770      2.327      0.020     120.122    1409.797\n",
       "year         1.026e+04    201.097     51.028      0.000    9867.101    1.07e+04\n",
       "quarter        95.8783   1015.267      0.094      0.925   -1895.430    2087.187\n",
       "day_of_week    -4.3134    134.737     -0.032      0.974    -268.583     259.956\n",
       "==============================================================================\n",
       "Omnibus:                       89.467   Durbin-Watson:                   0.006\n",
       "Prob(Omnibus):                  0.000   Jarque-Bera (JB):               86.928\n",
       "Skew:                           0.505   Prob(JB):                     1.33e-19\n",
       "Kurtosis:                       2.547   Cond. No.                     3.04e+06\n",
       "==============================================================================\n",
       "\n",
       "Notes:\n",
       "[1] Standard Errors assume that the covariance matrix of the errors is correctly specified.\n",
       "[2] The condition number is large, 3.04e+06. This might indicate that there are\n",
       "strong multicollinearity or other numerical problems.\n",
       "\"\"\""
      ]
     },
     "execution_count": 36,
     "metadata": {},
     "output_type": "execute_result"
    }
   ],
   "source": [
    "Y=bc['price']\n",
    "X=bc[['month','year','quarter','day_of_week']]\n",
    "X=sm.add_constant(X)\n",
    "model=sm.OLS(Y,X)\n",
    "model_fit=model.fit()\n",
    "model_fit.summary()"
   ]
  },
  {
   "cell_type": "code",
   "execution_count": null,
   "metadata": {
    "colab": {
     "base_uri": "https://localhost:8080/"
    },
    "id": "FPayqvE1Fw7Q",
    "outputId": "5edabbab-e992-49d8-b220-adee416131b0"
   },
   "outputs": [
    {
     "name": "stdout",
     "output_type": "stream",
     "text": [
      "ADF Statistic: -1.072945\n",
      "p-value: 0.725740\n",
      "Critical Values:\n",
      "\t1%: -3.434\n",
      "\t5%: -2.863\n",
      "\t10%: -2.568\n"
     ]
    }
   ],
   "source": [
    "X = bc['price']\n",
    "result = adfuller(X)\n",
    "print('ADF Statistic: %f' % result[0])\n",
    "print('p-value: %f' % result[1])\n",
    "print('Critical Values:')\n",
    "for key, value in result[4].items():\n",
    "    print('\\t%s: %.3f' % (key, value))"
   ]
  },
  {
   "cell_type": "code",
   "execution_count": null,
   "metadata": {
    "id": "uWzFjkDnFx82"
   },
   "outputs": [],
   "source": [
    "bc['rolling_average_7_day']=bc['price'].rolling(window=7).mean()"
   ]
  },
  {
   "cell_type": "code",
   "execution_count": null,
   "metadata": {
    "id": "Tfto1Bg4Fy-j"
   },
   "outputs": [],
   "source": [
    "bc['minus_rolling']=bc['price']-bc['rolling_average_7_day']"
   ]
  },
  {
   "cell_type": "code",
   "execution_count": null,
   "metadata": {
    "colab": {
     "base_uri": "https://localhost:8080/",
     "height": 296
    },
    "id": "lC9Dv9v8F0Bu",
    "outputId": "d7474bdb-1c16-4f58-f070-412e10e19144"
   },
   "outputs": [
    {
     "data": {
      "text/plain": [
       "<matplotlib.axes._subplots.AxesSubplot at 0x7f6e69545b10>"
      ]
     },
     "execution_count": 40,
     "metadata": {},
     "output_type": "execute_result"
    },
    {
     "data": {
      "image/png": "[encoded data removed]",
      "text/plain": [
       "<Figure size 432x288 with 1 Axes>"
      ]
     },
     "metadata": {
      "needs_background": "light"
     },
     "output_type": "display_data"
    }
   ],
   "source": [
    "bc['minus_rolling'].plot()"
   ]
  },
  {
   "cell_type": "code",
   "execution_count": null,
   "metadata": {
    "colab": {
     "base_uri": "https://localhost:8080/"
    },
    "id": "ZbEmJFp8F006",
    "outputId": "b7dee2ab-8768-4836-dccd-99eca16fa016"
   },
   "outputs": [
    {
     "name": "stdout",
     "output_type": "stream",
     "text": [
      "ADF Statistic: -11.771259\n",
      "p-value: 0.000000\n",
      "Critical Values:\n",
      "\t1%: -3.434\n",
      "\t5%: -2.863\n",
      "\t10%: -2.568\n"
     ]
    }
   ],
   "source": [
    "X = bc['minus_rolling'][6:]\n",
    "result = adfuller(X)\n",
    "print('ADF Statistic: %f' % result[0])\n",
    "print('p-value: %f' % result[1])\n",
    "print('Critical Values:')\n",
    "for key, value in result[4].items():\n",
    "    print('\\t%s: %.3f' % (key, value))"
   ]
  },
  {
   "cell_type": "code",
   "execution_count": null,
   "metadata": {
    "colab": {
     "base_uri": "https://localhost:8080/",
     "height": 298
    },
    "id": "pyw9Hja3F1nU",
    "outputId": "1571af2d-3f82-4ec3-f23f-ae92b7f68ab2"
   },
   "outputs": [
    {
     "data": {
      "text/plain": [
       "<matplotlib.legend.Legend at 0x7f6e694cdbd0>"
      ]
     },
     "execution_count": 42,
     "metadata": {},
     "output_type": "execute_result"
    },
    {
     "data": {
      "image/png": "[encoded data removed]",
      "text/plain": [
       "<Figure size 432x288 with 1 Axes>"
      ]
     },
     "metadata": {
      "needs_background": "light"
     },
     "output_type": "display_data"
    }
   ],
   "source": [
    "bc.price.plot(label='data')\n",
    "bc.rolling_average_7_day.plot(label='7 day rolling average')\n",
    "plt.ylabel('Value of 1 BTC ($)')\n",
    "plt.legend()"
   ]
  },
  {
   "cell_type": "code",
   "execution_count": null,
   "metadata": {
    "colab": {
     "base_uri": "https://localhost:8080/",
     "height": 281
    },
    "id": "CKp0TJ6zF2op",
    "outputId": "6b059cdf-2318-4647-ee6a-b872cc536700"
   },
   "outputs": [
    {
     "data": {
      "image/png": "[encoded data removed]",
      "text/plain": [
       "<Figure size 432x288 with 1 Axes>"
      ]
     },
     "metadata": {
      "needs_background": "light"
     },
     "output_type": "display_data"
    }
   ],
   "source": [
    "ax=plot_acf(bc['price'])"
   ]
  },
  {
   "cell_type": "code",
   "execution_count": null,
   "metadata": {
    "colab": {
     "base_uri": "https://localhost:8080/",
     "height": 281
    },
    "id": "eEgUSm3pF3if",
    "outputId": "9bb2b7a2-1f51-4ca3-b8b4-564a383b6eb3"
   },
   "outputs": [
    {
     "data": {
      "image/png": "[encoded data removed]",
      "text/plain": [
       "<Figure size 432x288 with 1 Axes>"
      ]
     },
     "metadata": {
      "needs_background": "light"
     },
     "output_type": "display_data"
    }
   ],
   "source": [
    "ax=plot_pacf(bc['price'])"
   ]
  },
  {
   "cell_type": "code",
   "execution_count": null,
   "metadata": {
    "colab": {
     "base_uri": "https://localhost:8080/"
    },
    "id": "VfrOVVSqGgLV",
    "outputId": "8eb763ea-8424-448a-8f16-af6b157609c3"
   },
   "outputs": [
    {
     "name": "stderr",
     "output_type": "stream",
     "text": [
      "/usr/local/lib/python3.7/dist-packages/statsmodels/tsa/base/tsa_model.py:527: ValueWarning: No frequency information was provided, so inferred frequency D will be used.\n",
      "  % freq, ValueWarning)\n",
      "/usr/local/lib/python3.7/dist-packages/statsmodels/tsa/base/tsa_model.py:527: ValueWarning: No frequency information was provided, so inferred frequency D will be used.\n",
      "  % freq, ValueWarning)\n",
      "/usr/local/lib/python3.7/dist-packages/statsmodels/tsa/base/tsa_model.py:527: ValueWarning: No frequency information was provided, so inferred frequency D will be used.\n",
      "  % freq, ValueWarning)\n"
     ]
    }
   ],
   "source": [
    "model=ARIMA(train['price'],order=(2,0,2))\n",
    "model_fit=model.fit()"
   ]
  },
  {
   "cell_type": "code",
   "execution_count": null,
   "metadata": {
    "colab": {
     "base_uri": "https://localhost:8080/"
    },
    "id": "sDY9C5n3KtPG",
    "outputId": "146a1d35-fc60-4876-f83c-6643137102e4"
   },
   "outputs": [
    {
     "data": {
      "text/plain": [
       "<statsmodels.tsa.arima.model.ARIMAResultsWrapper at 0x7f6e6941de50>"
      ]
     },
     "execution_count": 46,
     "metadata": {},
     "output_type": "execute_result"
    }
   ],
   "source": [
    "model_fit"
   ]
  },
  {
   "cell_type": "code",
   "execution_count": null,
   "metadata": {
    "colab": {
     "base_uri": "https://localhost:8080/",
     "height": 494
    },
    "id": "Dr_1-_ScGal5",
    "outputId": "8e4f91d8-13ef-4f06-dbcb-2274ecb984f2"
   },
   "outputs": [
    {
     "data": {
      "text/html": [
       "<table class=\"simpletable\">\n",
       "<caption>SARIMAX Results</caption>\n",
       "<tr>\n",
       "  <th>Dep. Variable:</th>         <td>price</td>      <th>  No. Observations:  </th>    <td>31</td>   \n",
       "</tr>\n",
       "<tr>\n",
       "  <th>Model:</th>            <td>ARIMA(2, 0, 2)</td>  <th>  Log Likelihood     </th> <td>-200.088</td>\n",
       "</tr>\n",
       "<tr>\n",
       "  <th>Date:</th>            <td>Thu, 14 Apr 2022</td> <th>  AIC                </th>  <td>412.176</td>\n",
       "</tr>\n",
       "<tr>\n",
       "  <th>Time:</th>                <td>13:12:21</td>     <th>  BIC                </th>  <td>420.780</td>\n",
       "</tr>\n",
       "<tr>\n",
       "  <th>Sample:</th>             <td>08-17-2017</td>    <th>  HQIC               </th>  <td>414.980</td>\n",
       "</tr>\n",
       "<tr>\n",
       "  <th></th>                   <td>- 09-16-2017</td>   <th>                     </th>     <td> </td>   \n",
       "</tr>\n",
       "<tr>\n",
       "  <th>Covariance Type:</th>        <td>opg</td>       <th>                     </th>     <td> </td>   \n",
       "</tr>\n",
       "</table>\n",
       "<table class=\"simpletable\">\n",
       "<tr>\n",
       "     <td></td>       <th>coef</th>     <th>std err</th>      <th>z</th>      <th>P>|z|</th>  <th>[0.025</th>    <th>0.975]</th>  \n",
       "</tr>\n",
       "<tr>\n",
       "  <th>const</th>  <td> 4249.4649</td> <td>  116.445</td> <td>   36.493</td> <td> 0.000</td> <td> 4021.237</td> <td> 4477.693</td>\n",
       "</tr>\n",
       "<tr>\n",
       "  <th>ar.L1</th>  <td>    0.7626</td> <td>    0.870</td> <td>    0.876</td> <td> 0.381</td> <td>   -0.943</td> <td>    2.468</td>\n",
       "</tr>\n",
       "<tr>\n",
       "  <th>ar.L2</th>  <td>   -0.2748</td> <td>    0.822</td> <td>   -0.334</td> <td> 0.738</td> <td>   -1.885</td> <td>    1.335</td>\n",
       "</tr>\n",
       "<tr>\n",
       "  <th>ma.L1</th>  <td>    0.4376</td> <td>    0.832</td> <td>    0.526</td> <td> 0.599</td> <td>   -1.194</td> <td>    2.069</td>\n",
       "</tr>\n",
       "<tr>\n",
       "  <th>ma.L2</th>  <td>    0.4757</td> <td>    0.430</td> <td>    1.108</td> <td> 0.268</td> <td>   -0.366</td> <td>    1.318</td>\n",
       "</tr>\n",
       "<tr>\n",
       "  <th>sigma2</th> <td> 2.219e+04</td> <td> 5524.786</td> <td>    4.017</td> <td> 0.000</td> <td> 1.14e+04</td> <td>  3.3e+04</td>\n",
       "</tr>\n",
       "</table>\n",
       "<table class=\"simpletable\">\n",
       "<tr>\n",
       "  <th>Ljung-Box (L1) (Q):</th>     <td>0.07</td> <th>  Jarque-Bera (JB):  </th> <td>0.04</td>\n",
       "</tr>\n",
       "<tr>\n",
       "  <th>Prob(Q):</th>                <td>0.79</td> <th>  Prob(JB):          </th> <td>0.98</td>\n",
       "</tr>\n",
       "<tr>\n",
       "  <th>Heteroskedasticity (H):</th> <td>1.45</td> <th>  Skew:              </th> <td>0.02</td>\n",
       "</tr>\n",
       "<tr>\n",
       "  <th>Prob(H) (two-sided):</th>    <td>0.57</td> <th>  Kurtosis:          </th> <td>3.18</td>\n",
       "</tr>\n",
       "</table><br/><br/>Warnings:<br/>[1] Covariance matrix calculated using the outer product of gradients (complex-step)."
      ],
      "text/plain": [
       "<class 'statsmodels.iolib.summary.Summary'>\n",
       "\"\"\"\n",
       "                               SARIMAX Results                                \n",
       "==============================================================================\n",
       "Dep. Variable:                  price   No. Observations:                   31\n",
       "Model:                 ARIMA(2, 0, 2)   Log Likelihood                -200.088\n",
       "Date:                Thu, 14 Apr 2022   AIC                            412.176\n",
       "Time:                        13:12:21   BIC                            420.780\n",
       "Sample:                    08-17-2017   HQIC                           414.980\n",
       "                         - 09-16-2017                                         \n",
       "Covariance Type:                  opg                                         \n",
       "==============================================================================\n",
       "                 coef    std err          z      P>|z|      [0.025      0.975]\n",
       "------------------------------------------------------------------------------\n",
       "const       4249.4649    116.445     36.493      0.000    4021.237    4477.693\n",
       "ar.L1          0.7626      0.870      0.876      0.381      -0.943       2.468\n",
       "ar.L2         -0.2748      0.822     -0.334      0.738      -1.885       1.335\n",
       "ma.L1          0.4376      0.832      0.526      0.599      -1.194       2.069\n",
       "ma.L2          0.4757      0.430      1.108      0.268      -0.366       1.318\n",
       "sigma2      2.219e+04   5524.786      4.017      0.000    1.14e+04     3.3e+04\n",
       "===================================================================================\n",
       "Ljung-Box (L1) (Q):                   0.07   Jarque-Bera (JB):                 0.04\n",
       "Prob(Q):                              0.79   Prob(JB):                         0.98\n",
       "Heteroskedasticity (H):               1.45   Skew:                             0.02\n",
       "Prob(H) (two-sided):                  0.57   Kurtosis:                         3.18\n",
       "===================================================================================\n",
       "\n",
       "Warnings:\n",
       "[1] Covariance matrix calculated using the outer product of gradients (complex-step).\n",
       "\"\"\""
      ]
     },
     "execution_count": 47,
     "metadata": {},
     "output_type": "execute_result"
    }
   ],
   "source": [
    "model_fit.summary()"
   ]
  },
  {
   "cell_type": "code",
   "execution_count": null,
   "metadata": {
    "colab": {
     "base_uri": "https://localhost:8080/",
     "height": 303
    },
    "id": "op0Vl5k9KHZf",
    "outputId": "ff23f1ca-c694-4db5-9e1e-b03ac87066aa"
   },
   "outputs": [
    {
     "data": {
      "text/plain": [
       "<matplotlib.legend.Legend at 0x7f6e6e1e9450>"
      ]
     },
     "execution_count": 48,
     "metadata": {},
     "output_type": "execute_result"
    },
    {
     "data": {
      "image/png": "[encoded data removed]",
      "text/plain": [
       "<Figure size 432x288 with 1 Axes>"
      ]
     },
     "metadata": {
      "needs_background": "light"
     },
     "output_type": "display_data"
    }
   ],
   "source": [
    "model_fit.fittedvalues.plot(label='model')\n",
    "train.price.plot(label='actual')\n",
    "model_fit.forecast(1).plot(label='forecast')\n",
    "plt.legend()"
   ]
  },
  {
   "cell_type": "code",
   "execution_count": null,
   "metadata": {
    "colab": {
     "base_uri": "https://localhost:8080/"
    },
    "id": "TfwsUFHALd5G",
    "outputId": "bf898c3d-a2c5-49ea-9d61-bc8f43ffc442"
   },
   "outputs": [
    {
     "data": {
      "text/plain": [
       "407.3576132233202"
      ]
     },
     "execution_count": 49,
     "metadata": {},
     "output_type": "execute_result"
    }
   ],
   "source": [
    "model_fit.forecast(1).values[0]-bc['price'][31]"
   ]
  },
  {
   "cell_type": "code",
   "execution_count": null,
   "metadata": {
    "id": "7FgyhtJpOASR"
   },
   "outputs": [],
   "source": [
    "def fc_days(days):\n",
    "  train=bc[:bc.index[days]]\n",
    "  model=ARIMA(train['price'],order=(2,0,1),freq='D')\n",
    "  model_fit=model.fit()\n",
    "  forecast=model_fit.forecast(1).values[0]\n",
    "  return forecast"
   ]
  },
  {
   "cell_type": "code",
   "execution_count": null,
   "metadata": {
    "id": "29hE_yFqJz72"
   },
   "outputs": [],
   "source": [
    "def mse(days,forecast):\n",
    "  mse=(forecast-bc['price'][days+1])**2\n",
    "  return mse"
   ]
  },
  {
   "cell_type": "code",
   "execution_count": null,
   "metadata": {
    "id": "xU2avVCYf4tG"
   },
   "outputs": [],
   "source": [
    "import warnings\n",
    "warnings.filterwarnings(\"ignore\")"
   ]
  },
  {
   "cell_type": "code",
   "execution_count": null,
   "metadata": {
    "id": "fQpmHtgWf7tw"
   },
   "outputs": [],
   "source": [
    "days=[]\n",
    "forecasts=[]\n",
    "for i in range(30,len(bc),1):\n",
    "  days.append(i)\n",
    "  forecasts.append(fc_days(i))"
   ]
  },
  {
   "cell_type": "code",
   "execution_count": null,
   "metadata": {
    "colab": {
     "base_uri": "https://localhost:8080/"
    },
    "id": "KiNWEEjlZZE5",
    "outputId": "345eb684-b27c-4bfd-fe3a-447b0b2aea81"
   },
   "outputs": [
    {
     "data": {
      "text/plain": [
       "1670"
      ]
     },
     "execution_count": 64,
     "metadata": {},
     "output_type": "execute_result"
    }
   ],
   "source": [
    "len(forecasts)"
   ]
  },
  {
   "cell_type": "code",
   "execution_count": null,
   "metadata": {
    "colab": {
     "base_uri": "https://localhost:8080/"
    },
    "id": "cBkqHBhWZGV9",
    "outputId": "ff123022-fb8b-4ef9-e0bd-ad7055bd05ec"
   },
   "outputs": [
    {
     "data": {
      "text/plain": [
       "-30"
      ]
     },
     "execution_count": 55,
     "metadata": {},
     "output_type": "execute_result"
    }
   ],
   "source": [
    "len(days)-len(bc)"
   ]
  },
  {
   "cell_type": "code",
   "execution_count": null,
   "metadata": {
    "colab": {
     "base_uri": "https://localhost:8080/"
    },
    "id": "jEz2E_-tT4oL",
    "outputId": "97f26b4f-b7dc-42ad-a8c8-9d9c9b46a027"
   },
   "outputs": [
    {
     "data": {
      "text/plain": [
       "30"
      ]
     },
     "execution_count": 69,
     "metadata": {},
     "output_type": "execute_result"
    }
   ],
   "source": [
    "days[0]"
   ]
  },
  {
   "cell_type": "code",
   "execution_count": null,
   "metadata": {
    "colab": {
     "base_uri": "https://localhost:8080/"
    },
    "id": "C4O2JBX1Pk5t",
    "outputId": "fef89cdd-56fe-4b9a-c89f-212fc239fa58"
   },
   "outputs": [
    {
     "data": {
      "text/plain": [
       "1670"
      ]
     },
     "execution_count": 56,
     "metadata": {},
     "output_type": "execute_result"
    }
   ],
   "source": [
    "len(days)"
   ]
  },
  {
   "cell_type": "code",
   "execution_count": null,
   "metadata": {
    "id": "HN-KaJEjRulx"
   },
   "outputs": [],
   "source": [
    "errors=[]\n",
    "for i in range(len(forecasts)-1):\n",
    "  errors.append(mse(days[i],forecasts[i]))"
   ]
  },
  {
   "cell_type": "code",
   "execution_count": null,
   "metadata": {
    "colab": {
     "base_uri": "https://localhost:8080/",
     "height": 297
    },
    "id": "b5LpIpQsf98M",
    "outputId": "46f63f8c-73e1-4e65-f584-e7a7657e0962"
   },
   "outputs": [
    {
     "data": {
      "text/plain": [
       "<matplotlib.legend.Legend at 0x7f6e66d18150>"
      ]
     },
     "execution_count": 79,
     "metadata": {},
     "output_type": "execute_result"
    },
    {
     "data": {
      "image/png": "[encoded data removed]",
      "text/plain": [
       "<Figure size 432x288 with 1 Axes>"
      ]
     },
     "metadata": {
      "needs_background": "light"
     },
     "output_type": "display_data"
    }
   ],
   "source": [
    "plt.plot(bc.index[31:],forecasts[:-1],label='forecast')\n",
    "plt.plot(bc.price,label='actual')\n",
    "#plt.plot(bc.index[31:],errors,label='errors')\n",
    "plt.xlabel('date')\n",
    "plt.ylabel('Value of 1 BTC ($)')\n",
    "plt.legend()"
   ]
  },
  {
   "cell_type": "code",
   "execution_count": null,
   "metadata": {
    "colab": {
     "base_uri": "https://localhost:8080/"
    },
    "id": "Y0DLpa4BUa76",
    "outputId": "b8c49568-b893-47c5-9d8d-4b7e1923c2d3"
   },
   "outputs": [
    {
     "data": {
      "text/plain": [
       "1669"
      ]
     },
     "execution_count": 76,
     "metadata": {},
     "output_type": "execute_result"
    }
   ],
   "source": [
    "len(errors)"
   ]
  },
  {
   "cell_type": "code",
   "execution_count": null,
   "metadata": {
    "colab": {
     "base_uri": "https://localhost:8080/",
     "height": 288
    },
    "id": "Dc_yEs1jf1KV",
    "outputId": "9cafda20-7616-4af3-c060-61c5c999b63a"
   },
   "outputs": [
    {
     "data": {
      "text/plain": [
       "Text(0, 0.5, 'Model forecast errors ($^2)')"
      ]
     },
     "execution_count": 78,
     "metadata": {},
     "output_type": "execute_result"
    },
    {
     "data": {
      "image/png": "[encoded data removed]",
      "text/plain": [
       "<Figure size 432x288 with 1 Axes>"
      ]
     },
     "metadata": {
      "needs_background": "light"
     },
     "output_type": "display_data"
    }
   ],
   "source": [
    "plt.plot(bc.index[31:],errors,label='errors')\n",
    "plt.yscale('log')\n",
    "plt.ylabel('Model forecast errors ($^2)')"
   ]
  },
  {
   "cell_type": "markdown",
   "metadata": {
    "id": "baTnNS6OjIXb"
   },
   "source": [
    "Order or magnitude of MSE doesn't change too much with increasing size of training data, increases alot as the size of price increases."
   ]
  },
  {
   "cell_type": "code",
   "execution_count": null,
   "metadata": {
    "id": "btQ9EIa9PdZe"
   },
   "outputs": [],
   "source": [
    "train=bc[:bc.index[1200]]\n",
    "model=ARIMA(train['price'],order=(2,0,0),freq='D')\n",
    "model_fit=model.fit()\n",
    "forecast=model_fit.forecast(28).values"
   ]
  },
  {
   "cell_type": "code",
   "execution_count": null,
   "metadata": {
    "colab": {
     "base_uri": "https://localhost:8080/"
    },
    "id": "o8mUz0LWTUvS",
    "outputId": "5ff17a69-d47b-4931-d15a-1e5a368e3cfd"
   },
   "outputs": [
    {
     "data": {
      "text/plain": [
       "array([18082.99533021, 18064.72763998, 18019.61173585, 17968.87676272,\n",
       "       17917.13779811, 17865.3972234 , 17813.87185117, 17762.60767944,\n",
       "       17711.61356901, 17660.89031131, 17610.43694916, 17560.25215113,\n",
       "       17510.33451043, 17460.6826098 , 17411.29503562, 17362.17038097,\n",
       "       17313.30724621, 17264.70423914, 17216.35997494, 17168.27307617,\n",
       "       17120.44217272, 17072.86590177, 17025.54290776, 16978.47184234,\n",
       "       16931.65136436, 16885.08013977, 16838.75684167, 16792.68015018])"
      ]
     },
     "execution_count": 81,
     "metadata": {},
     "output_type": "execute_result"
    }
   ],
   "source": [
    "forecast"
   ]
  },
  {
   "cell_type": "code",
   "execution_count": null,
   "metadata": {
    "colab": {
     "base_uri": "https://localhost:8080/",
     "height": 300
    },
    "id": "0Ciw2zmvTWH5",
    "outputId": "5dc766f5-401b-4787-9a20-e6aa47c91c76"
   },
   "outputs": [
    {
     "data": {
      "text/plain": [
       "<matplotlib.legend.Legend at 0x7f6e66fee990>"
      ]
     },
     "execution_count": 82,
     "metadata": {},
     "output_type": "execute_result"
    },
    {
     "data": {
      "image/png": "[encoded data removed]",
      "text/plain": [
       "<Figure size 432x288 with 1 Axes>"
      ]
     },
     "metadata": {
      "needs_background": "light"
     },
     "output_type": "display_data"
    }
   ],
   "source": [
    "plt.plot(range(1201,1229,1),forecast,label='forecast')\n",
    "plt.plot(bc.reset_index(drop=True)[['price']][1101:1241],label='actual')\n",
    "plt.xlim(0,1280)\n",
    "plt.ylim(0,20000)\n",
    "plt.xlabel('data point')\n",
    "plt.ylabel('Value of 1 BTC ($)')\n",
    "plt.legend()"
   ]
  },
  {
   "cell_type": "code",
   "execution_count": null,
   "metadata": {
    "colab": {
     "base_uri": "https://localhost:8080/"
    },
    "id": "N8QtWetLT6xU",
    "outputId": "bbe49ba2-7d49-42ad-99b1-379bd479c851"
   },
   "outputs": [
    {
     "name": "stdout",
     "output_type": "stream",
     "text": [
      "price on 12th April: $ 39951.993653846155\n",
      "forecast price on 12th April: $ 40902.55735395539\n",
      "mean absolute error on 12th April forecast: $ 950.5637001092327\n",
      "forecasted price for 13th April: $ 39732.629867579875\n"
     ]
    }
   ],
   "source": [
    "print('price on 12th April: $',bc['price'][-1])\n",
    "print('forecast price on 12th April: $',forecasts[-2])\n",
    "print('mean absolute error on 12th April forecast: $',errors[-1]**(1/2))\n",
    "print('forecasted price for 13th April: $',forecasts[-1])"
   ]
  },
  {
   "cell_type": "code",
   "execution_count": null,
   "metadata": {
    "id": "yJrU7zHCdJA9"
   },
   "outputs": [],
   "source": [
    "model=ARIMA(bc['price'],order=(2,0,1),freq='D')\n",
    "model_fit=model.fit()\n",
    "four_weeks=model_fit.forecast(28).values"
   ]
  },
  {
   "cell_type": "code",
   "execution_count": null,
   "metadata": {
    "colab": {
     "base_uri": "https://localhost:8080/"
    },
    "id": "GM5jRvxufYbZ",
    "outputId": "f5660f5d-e980-424a-ad7d-e9b07322661b"
   },
   "outputs": [
    {
     "data": {
      "text/plain": [
       "array([39732.62986758, 39684.64500265, 39651.58519003, 39619.86523485,\n",
       "       39588.30544724, 39556.80332636, 39525.34990542, 39493.94433946,\n",
       "       39462.58648882, 39431.27627522, 39400.01362578, 39368.79846819,\n",
       "       39337.63073031, 39306.51034011, 39275.43722565, 39244.41131512,\n",
       "       39213.4325368 , 39182.50081911, 39151.61609055, 39120.77827973,\n",
       "       39089.98731538, 39059.24312634, 39028.54564155, 38997.89479005,\n",
       "       38967.29050102, 38936.73270371, 38906.22132749, 38875.75630186])"
      ]
     },
     "execution_count": 155,
     "metadata": {},
     "output_type": "execute_result"
    }
   ],
   "source": [
    "four_weeks"
   ]
  },
  {
   "cell_type": "code",
   "execution_count": null,
   "metadata": {
    "id": "vjb7dt8OVXla"
   },
   "outputs": [],
   "source": [
    "extend=pd.date_range(bc.index[-1],periods=29,freq='D')"
   ]
  },
  {
   "cell_type": "code",
   "execution_count": null,
   "metadata": {
    "id": "9G7qtzQ0deOS"
   },
   "outputs": [],
   "source": [
    "extend=extend[1:]"
   ]
  },
  {
   "cell_type": "code",
   "execution_count": null,
   "metadata": {
    "colab": {
     "base_uri": "https://localhost:8080/",
     "height": 299
    },
    "id": "Fnx7ZAQDVLXU",
    "outputId": "087ca17b-0594-4c17-86c5-2ca1b43b88c7"
   },
   "outputs": [
    {
     "data": {
      "text/plain": [
       "<matplotlib.legend.Legend at 0x7fb66822b150>"
      ]
     },
     "execution_count": 168,
     "metadata": {},
     "output_type": "execute_result"
    },
    {
     "data": {
      "image/png": "[encoded data removed]",
      "text/plain": [
       "<Figure size 432x288 with 1 Axes>"
      ]
     },
     "metadata": {
      "needs_background": "light"
     },
     "output_type": "display_data"
    }
   ],
   "source": [
    "plt.plot(bc.index[1531:],forecasts[1500:-1],label='forecast')\n",
    "plt.plot(bc.price[1531:],label='actual')\n",
    "plt.plot(extend,four_weeks,label='4 week end forecast')\n",
    "plt.xlabel('date')\n",
    "plt.ylabel('Value of 1 BTC ($)')\n",
    "plt.legend()"
   ]
  },
  {
   "cell_type": "code",
   "execution_count": null,
   "metadata": {
    "colab": {
     "base_uri": "https://localhost:8080/"
    },
    "id": "3XNw5OOYdnAo",
    "outputId": "05cdb79b-8d77-415f-eeb6-317c4ab6131d"
   },
   "outputs": [
    {
     "name": "stdout",
     "output_type": "stream",
     "text": [
      "33\n",
      "45\n",
      "51\n",
      "58\n",
      "71\n",
      "79\n",
      "96\n",
      "97\n",
      "109\n",
      "117\n",
      "155\n",
      "185\n",
      "195\n",
      "240\n",
      "249\n",
      "254\n",
      "402\n",
      "414\n",
      "480\n",
      "504\n",
      "552\n",
      "553\n",
      "556\n",
      "570\n",
      "581\n",
      "605\n",
      "626\n",
      "636\n",
      "675\n",
      "717\n",
      "719\n",
      "748\n",
      "749\n",
      "801\n",
      "855\n",
      "899\n",
      "951\n",
      "982\n",
      "985\n",
      "1072\n",
      "1137\n",
      "1151\n",
      "1153\n",
      "1163\n",
      "1172\n",
      "1215\n",
      "1219\n",
      "1268\n",
      "1288\n",
      "1394\n",
      "1407\n",
      "1442\n",
      "1508\n",
      "1511\n",
      "1513\n",
      "1535\n",
      "1543\n",
      "1634\n",
      "1637\n",
      "1644\n",
      "1654\n",
      "1658\n",
      "1674\n",
      "1682\n",
      "1685\n"
     ]
    }
   ],
   "source": [
    "for i in range(32,len(bc),1):\n",
    "  if (bc.reset_index(drop=True).price[i]>bc.reset_index(drop=True).price[i-1])&(forecasts[i-31]>forecasts[i-30]):\n",
    "    print(i)"
   ]
  },
  {
   "cell_type": "code",
   "execution_count": null,
   "metadata": {
    "id": "Dx4V9trcfHrG"
   },
   "outputs": [],
   "source": [
    "up_index=1072\n",
    "date=bc.loc[bc.index[up_index],'date']\n",
    "next_day=bc.loc[bc.index[up_index+1],'date']\n",
    "up_price=bc.loc[bc.index[up_index],'price']\n",
    "next_price=bc.loc[bc.index[up_index+1],'price']\n",
    "forecast1=forecasts[1042]\n",
    "forecast2=forecasts[1043]"
   ]
  },
  {
   "cell_type": "code",
   "execution_count": null,
   "metadata": {
    "colab": {
     "base_uri": "https://localhost:8080/"
    },
    "id": "KW73tKR3hTie",
    "outputId": "5ac940ce-9114-42fc-c966-b95ebf9d821a"
   },
   "outputs": [
    {
     "name": "stdout",
     "output_type": "stream",
     "text": [
      "On  2020-07-24 00:00:00 , the price of BTC was $ 9545.621510416668\n",
      "On  2020-07-25 00:00:00 , the price of BTC was $ 9609.628125000001\n",
      "Our model would have predicted the price to be $ 9604.92417433047\n",
      "That would be a predicted profit of  0.6212551361803773 %\n",
      "Instead you would have made a profit of  0.6705337574246596 %\n"
     ]
    }
   ],
   "source": [
    "print('On ',date,', the price of BTC was $',up_price)\n",
    "print('On ',next_day,', the price of BTC was $',next_price)\n",
    "print('Our model would have predicted the price to be $',forecast2)\n",
    "print('That would be a predicted profit of ',100*(forecast2-up_price)/up_price,'%')\n",
    "print('Instead you would have made a profit of ',100*(next_price-up_price)/up_price,'%')"
   ]
  },
  {
   "cell_type": "code",
   "execution_count": null,
   "metadata": {
    "id": "hs_z_Rclj1sg"
   },
   "outputs": [],
   "source": []
  }
 ],
 "metadata": {
  "colab": {
   "collapsed_sections": [],
   "provenance": []
  },
  "kernelspec": {
   "display_name": "Python 3",
   "language": "python",
   "name": "python3"
  },
  "language_info": {
   "codemirror_mode": {
    "name": "ipython",
    "version": 3
   },
   "file_extension": ".py",
   "mimetype": "text/x-python",
   "name": "python",
   "nbconvert_exporter": "python",
   "pygments_lexer": "ipython3",
   "version": "3.8.8"
  }
 },
 "nbformat": 4,
 "nbformat_minor": 1
}
